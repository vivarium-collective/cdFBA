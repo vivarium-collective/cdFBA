{
 "cells": [
  {
   "metadata": {},
   "cell_type": "markdown",
   "source": [
    "# cdFBA Vivarium 2.0 Demo\n",
    "\n",
    "This notebook will introduce the Community Dynamic Flux Balance Analysis (cdFBA) modules built using the Vivarium 2.0 interface platform. Individual model processes are connected using the `bigraph-schema` and `process-bigraph`"
   ],
   "id": "6db21e4252b79298"
  },
  {
   "cell_type": "code",
   "id": "initial_id",
   "metadata": {
    "collapsed": true,
    "ExecuteTime": {
     "end_time": "2025-02-10T20:08:14.898699Z",
     "start_time": "2025-02-10T20:08:13.248217Z"
    }
   },
   "source": [
    "from cdFBA.processes.dfba import *\n",
    "import pprint\n",
    "\n",
    "from cdFBA import positive_float, set_float, bounds_type, particle_type, volumetric_type, chemostat_type\n",
    "from cdFBA.processes.dfba import DFBA, UpdateEnvironment, Chemostat, Injector, WaveFunction\n",
    "from cdFBA.utils import DFBAconfig, model_from_file, get_objective_reaction, get_injector_spec, get_wave_spec, \\\n",
    "    get_chemo_spec, dfba_config\n",
    "from cdFBA.utils import dfba_config_from_model, get_single_dfba_spec, dfba_config, environment_spec, initial_environment, initial_conditions\n",
    "import cobra\n",
    "\n",
    "from process_bigraph.composite import ProcessTypes\n",
    "from process_bigraph import Composite\n",
    "\n",
    "from cdFBA import register_types\n",
    "\n",
    "from matplotlib import pyplot as plt\n",
    "\n",
    "from vivarium import Vivarium\n",
    "from vivarium.tests import DEMO_PROCESSES"
   ],
   "outputs": [],
   "execution_count": 1
  },
  {
   "metadata": {
    "ExecuteTime": {
     "end_time": "2025-02-10T20:08:14.904389Z",
     "start_time": "2025-02-10T20:08:14.901592Z"
    }
   },
   "cell_type": "code",
   "source": [
    "processes = {\n",
    "    'DFBA': DFBA,\n",
    "    'Chemostat': Chemostat,\n",
    "    'Injector': Injector,\n",
    "    'WaveFunction': WaveFunction,\n",
    "    'UpdateEnvironment': UpdateEnvironment,\n",
    "}\n",
    "\n",
    "types={\n",
    "    'positive_float': positive_float,\n",
    "    'set_float': set_float,\n",
    "    'bounds': bounds_type,\n",
    "    'particle': particle_type,\n",
    "    'volumetric': volumetric_type,\n",
    "}"
   ],
   "id": "54afaedbc0c3cba1",
   "outputs": [],
   "execution_count": 2
  },
  {
   "metadata": {
    "ExecuteTime": {
     "end_time": "2025-02-10T20:08:14.939704Z",
     "start_time": "2025-02-10T20:08:14.933261Z"
    }
   },
   "cell_type": "code",
   "source": "v = Vivarium(processes=processes)",
   "id": "c670d6bd03b0524a",
   "outputs": [],
   "execution_count": 3
  },
  {
   "metadata": {
    "ExecuteTime": {
     "end_time": "2025-02-10T20:08:14.944949Z",
     "start_time": "2025-02-10T20:08:14.943400Z"
    }
   },
   "cell_type": "code",
   "source": "v.print_processes()",
   "id": "4557df8d9f9d575f",
   "outputs": [
    {
     "name": "stdout",
     "output_type": "stream",
     "text": [
      "['console-emitter', 'WaveFunction', 'composite', 'DFBA', 'Chemostat', 'UpdateEnvironment', 'Injector', 'ram-emitter']\n"
     ]
    }
   ],
   "execution_count": 4
  },
  {
   "metadata": {
    "ExecuteTime": {
     "end_time": "2025-02-10T20:08:14.951048Z",
     "start_time": "2025-02-10T20:08:14.948891Z"
    }
   },
   "cell_type": "code",
   "source": [
    "v.register_types(\n",
    "    types={\n",
    "        'positive_float': positive_float,\n",
    "        'set_float': set_float,\n",
    "        'bounds': bounds_type,\n",
    "        'particle': particle_type,\n",
    "        'volumetric': volumetric_type,\n",
    "    }\n",
    ")"
   ],
   "id": "ec2d168862c649bf",
   "outputs": [],
   "execution_count": 5
  },
  {
   "metadata": {
    "ExecuteTime": {
     "end_time": "2025-02-10T20:08:17.887948Z",
     "start_time": "2025-02-10T20:08:14.954819Z"
    }
   },
   "cell_type": "code",
   "source": [
    "name1 = \"Escherichia coli K12\"\n",
    "model_file_1 = \"iAF1260\"\n",
    "medium_type='minimal'\n",
    "model_1 = model_from_file(model_file=model_file_1)\n",
    "media_1 = DFBAconfig(model=model_1, medium_type=medium_type)\n",
    "initial_counts = initial_conditions(model=model_1, biomass=0.1, medium_type=medium_type, name=name1)\n",
    "initial_env = initial_environment(volume=1.0, initial_counts= initial_counts)\n",
    "config_1 = dfba_config(\n",
    "    model_file = model_file_1,\n",
    "    name = name1,\n",
    "    kinetics = media_1.kinetics,\n",
    "    reaction_map = media_1.reaction_map,\n",
    "    biomass_identifier = media_1.biomass_indentifier,\n",
    "    bounds = None,\n",
    ")"
   ],
   "id": "391af406d1679c33",
   "outputs": [],
   "execution_count": 6
  },
  {
   "metadata": {
    "ExecuteTime": {
     "end_time": "2025-02-10T20:08:17.896869Z",
     "start_time": "2025-02-10T20:08:17.892716Z"
    }
   },
   "cell_type": "code",
   "source": [
    "v.add_process(\n",
    "    name=name1,\n",
    "    process_id=\"DFBA\",\n",
    "    config=config_1,\n",
    ")"
   ],
   "id": "ace62323ad3e5660",
   "outputs": [],
   "execution_count": 7
  },
  {
   "metadata": {
    "ExecuteTime": {
     "end_time": "2025-02-10T20:08:17.905780Z",
     "start_time": "2025-02-10T20:08:17.901811Z"
    }
   },
   "cell_type": "code",
   "source": [
    "v.connect_process(\n",
    "    process_name=name1,\n",
    "    inputs={\n",
    "            \"shared_environment\": [\"shared environment\"],\n",
    "            \"current_update\": [\"dFBA Results\"]\n",
    "        },\n",
    "    outputs={\n",
    "            \"dfba_update\": [\"dFBA Results\", name1]\n",
    "        }\n",
    ")"
   ],
   "id": "20b369c1016d8bf2",
   "outputs": [],
   "execution_count": 8
  },
  {
   "metadata": {
    "ExecuteTime": {
     "end_time": "2025-02-10T20:08:17.914473Z",
     "start_time": "2025-02-10T20:08:17.910244Z"
    }
   },
   "cell_type": "code",
   "source": [
    "v.add_process(\n",
    "    name='UpdateEnvironment',\n",
    "    process_id='UpdateEnvironment',\n",
    "    config={}\n",
    ")"
   ],
   "id": "268eec2ea8c9f28a",
   "outputs": [],
   "execution_count": 9
  },
  {
   "metadata": {
    "ExecuteTime": {
     "end_time": "2025-02-10T20:08:17.923533Z",
     "start_time": "2025-02-10T20:08:17.919240Z"
    }
   },
   "cell_type": "code",
   "source": [
    "v.connect_process(\n",
    "    process_name='UpdateEnvironment',\n",
    "    inputs={\n",
    "            \"species_updates\": [\"dFBA Results\"],\n",
    "            \"shared_environment\": [\"shared environment\"]\n",
    "    },\n",
    "    outputs={\n",
    "            \"shared_environment\": [\"shared environment\"],\n",
    "    }\n",
    ")"
   ],
   "id": "7f8820a909d12465",
   "outputs": [],
   "execution_count": 10
  },
  {
   "metadata": {
    "ExecuteTime": {
     "end_time": "2025-02-10T20:08:18.248622Z",
     "start_time": "2025-02-10T20:08:17.928092Z"
    }
   },
   "cell_type": "code",
   "source": "v.diagram()",
   "id": "5d93a451d18ce24e",
   "outputs": [
    {
     "name": "stdout",
     "output_type": "stream",
     "text": [
      "Writing out/diagram\n"
     ]
    },
    {
     "data": {
      "image/png": "[encoded data removed]",
      "text/plain": [
       "<IPython.core.display.Image object>"
      ]
     },
     "metadata": {},
     "output_type": "display_data"
    }
   ],
   "execution_count": 11
  },
  {
   "metadata": {
    "ExecuteTime": {
     "end_time": "2025-02-10T20:08:18.270112Z",
     "start_time": "2025-02-10T20:08:18.257505Z"
    }
   },
   "cell_type": "code",
   "source": [
    "v.set_value(path=['shared environment', 'volume'], value=initial_env['volume'])\n",
    "v.set_value(path=['shared environment', 'counts'], value=initial_env['counts'])\n",
    "v.set_value(path=['shared environment', 'concentrations'], value=initial_env['concentrations'])"
   ],
   "id": "3c575e4d7327229b",
   "outputs": [],
   "execution_count": 12
  },
  {
   "metadata": {
    "ExecuteTime": {
     "end_time": "2025-02-10T20:08:18.282343Z",
     "start_time": "2025-02-10T20:08:18.275515Z"
    }
   },
   "cell_type": "code",
   "source": "v.add_emitter()",
   "id": "622081adf37ebc09",
   "outputs": [],
   "execution_count": 13
  },
  {
   "metadata": {
    "ExecuteTime": {
     "end_time": "2025-02-10T20:08:18.537226Z",
     "start_time": "2025-02-10T20:08:18.287258Z"
    }
   },
   "cell_type": "code",
   "source": "v.diagram()",
   "id": "88698b5ed385a7aa",
   "outputs": [
    {
     "ename": "AttributeError",
     "evalue": "'NoneType' object has no attribute 'get'",
     "output_type": "error",
     "traceback": [
      "\u001B[0;31m---------------------------------------------------------------------------\u001B[0m",
      "\u001B[0;31mAttributeError\u001B[0m                            Traceback (most recent call last)",
      "Cell \u001B[0;32mIn[14], line 1\u001B[0m\n\u001B[0;32m----> 1\u001B[0m \u001B[43mv\u001B[49m\u001B[38;5;241;43m.\u001B[39;49m\u001B[43mdiagram\u001B[49m\u001B[43m(\u001B[49m\u001B[43m)\u001B[49m\n",
      "File \u001B[0;32m~/PycharmProjects/vivarium-interface/vivarium/vivarium.py:504\u001B[0m, in \u001B[0;36mVivarium.diagram\u001B[0;34m(self, filename, out_dir, options, show_emitter, **kwargs)\u001B[0m\n\u001B[1;32m    501\u001B[0m \u001B[38;5;66;03m# Filter kwargs to only include those accepted by plot_bigraph\u001B[39;00m\n\u001B[1;32m    502\u001B[0m plot_bigraph_kwargs \u001B[38;5;241m=\u001B[39m {k: v \u001B[38;5;28;01mfor\u001B[39;00m k, v \u001B[38;5;129;01min\u001B[39;00m kwargs\u001B[38;5;241m.\u001B[39mitems() \u001B[38;5;28;01mif\u001B[39;00m k \u001B[38;5;129;01min\u001B[39;00m plot_bigraph_signature\u001B[38;5;241m.\u001B[39mparameters}\n\u001B[0;32m--> 504\u001B[0m graphviz \u001B[38;5;241m=\u001B[39m \u001B[38;5;28;43mself\u001B[39;49m\u001B[38;5;241;43m.\u001B[39;49m\u001B[43mcore\u001B[49m\u001B[38;5;241;43m.\u001B[39;49m\u001B[43mgenerate_graphviz\u001B[49m\u001B[43m(\u001B[49m\n\u001B[1;32m    505\u001B[0m \u001B[43m    \u001B[49m\u001B[38;5;28;43mself\u001B[39;49m\u001B[38;5;241;43m.\u001B[39;49m\u001B[43mcomposite\u001B[49m\u001B[38;5;241;43m.\u001B[39;49m\u001B[43mcomposition\u001B[49m\u001B[43m,\u001B[49m\n\u001B[1;32m    506\u001B[0m \u001B[43m    \u001B[49m\u001B[38;5;28;43mself\u001B[39;49m\u001B[38;5;241;43m.\u001B[39;49m\u001B[43mcomposite\u001B[49m\u001B[38;5;241;43m.\u001B[39;49m\u001B[43mstate\u001B[49m\u001B[43m,\u001B[49m\n\u001B[1;32m    507\u001B[0m \u001B[43m    \u001B[49m\u001B[43m(\u001B[49m\u001B[43m)\u001B[49m\u001B[43m,\u001B[49m\n\u001B[1;32m    508\u001B[0m \u001B[43m    \u001B[49m\u001B[43moptions\u001B[49m\n\u001B[1;32m    509\u001B[0m \u001B[43m    \u001B[49m\u001B[43m)\u001B[49m\n\u001B[1;32m    511\u001B[0m \u001B[38;5;28mself\u001B[39m\u001B[38;5;241m.\u001B[39mcore\u001B[38;5;241m.\u001B[39mplot_graph(\n\u001B[1;32m    512\u001B[0m     graphviz,\n\u001B[1;32m    513\u001B[0m     filename\u001B[38;5;241m=\u001B[39mfilename,\n\u001B[1;32m    514\u001B[0m     out_dir\u001B[38;5;241m=\u001B[39mout_dir,\n\u001B[1;32m    515\u001B[0m     \u001B[38;5;241m*\u001B[39m\u001B[38;5;241m*\u001B[39mkwargs)\n\u001B[1;32m    517\u001B[0m state \u001B[38;5;241m=\u001B[39m \u001B[38;5;28mself\u001B[39m\u001B[38;5;241m.\u001B[39mcomposite\u001B[38;5;241m.\u001B[39mserialize_state()\n",
      "File \u001B[0;32m~/bigraph-viz/bigraph_viz/visualize.py:474\u001B[0m, in \u001B[0;36mVisualizeTypes.generate_graphviz\u001B[0;34m(self, schema, state, path, options)\u001B[0m\n\u001B[1;32m    472\u001B[0m \u001B[38;5;28;01mdef\u001B[39;00m \u001B[38;5;21mgenerate_graphviz\u001B[39m(\u001B[38;5;28mself\u001B[39m, schema, state, path, options):\n\u001B[1;32m    473\u001B[0m     full_schema, full_state \u001B[38;5;241m=\u001B[39m \u001B[38;5;28mself\u001B[39m\u001B[38;5;241m.\u001B[39mgenerate(schema, state)\n\u001B[0;32m--> 474\u001B[0m     \u001B[38;5;28;01mreturn\u001B[39;00m \u001B[38;5;28;43mself\u001B[39;49m\u001B[38;5;241;43m.\u001B[39;49m\u001B[43mget_graph_dict\u001B[49m\u001B[43m(\u001B[49m\u001B[43mfull_schema\u001B[49m\u001B[43m,\u001B[49m\u001B[43m \u001B[49m\u001B[43mfull_state\u001B[49m\u001B[43m,\u001B[49m\u001B[43m \u001B[49m\u001B[43mpath\u001B[49m\u001B[43m,\u001B[49m\u001B[43m \u001B[49m\u001B[43moptions\u001B[49m\u001B[43m)\u001B[49m\n",
      "File \u001B[0;32m~/bigraph-viz/bigraph_viz/visualize.py:463\u001B[0m, in \u001B[0;36mVisualizeTypes.get_graph_dict\u001B[0;34m(self, schema, state, path, options, graph)\u001B[0m\n\u001B[1;32m    449\u001B[0m graph \u001B[38;5;241m=\u001B[39m graph \u001B[38;5;129;01mor\u001B[39;00m {\n\u001B[1;32m    450\u001B[0m     \u001B[38;5;124m'\u001B[39m\u001B[38;5;124mstate_nodes\u001B[39m\u001B[38;5;124m'\u001B[39m: [],\n\u001B[1;32m    451\u001B[0m     \u001B[38;5;124m'\u001B[39m\u001B[38;5;124mprocess_nodes\u001B[39m\u001B[38;5;124m'\u001B[39m: [],\n\u001B[0;32m   (...)\u001B[0m\n\u001B[1;32m    455\u001B[0m     \u001B[38;5;124m'\u001B[39m\u001B[38;5;124mdisconnected_input_edges\u001B[39m\u001B[38;5;124m'\u001B[39m: [],\n\u001B[1;32m    456\u001B[0m     \u001B[38;5;124m'\u001B[39m\u001B[38;5;124mdisconnected_output_edges\u001B[39m\u001B[38;5;124m'\u001B[39m: []}\n\u001B[1;32m    458\u001B[0m graphviz_function \u001B[38;5;241m=\u001B[39m \u001B[38;5;28mself\u001B[39m\u001B[38;5;241m.\u001B[39mchoose_method(\n\u001B[1;32m    459\u001B[0m     schema,\n\u001B[1;32m    460\u001B[0m     state,\n\u001B[1;32m    461\u001B[0m     \u001B[38;5;124m'\u001B[39m\u001B[38;5;124mgraphviz\u001B[39m\u001B[38;5;124m'\u001B[39m)\n\u001B[0;32m--> 463\u001B[0m \u001B[38;5;28;01mreturn\u001B[39;00m \u001B[43mgraphviz_function\u001B[49m\u001B[43m(\u001B[49m\n\u001B[1;32m    464\u001B[0m \u001B[43m    \u001B[49m\u001B[38;5;28;43mself\u001B[39;49m\u001B[43m,\u001B[49m\n\u001B[1;32m    465\u001B[0m \u001B[43m    \u001B[49m\u001B[43mschema\u001B[49m\u001B[43m,\u001B[49m\n\u001B[1;32m    466\u001B[0m \u001B[43m    \u001B[49m\u001B[43mstate\u001B[49m\u001B[43m,\u001B[49m\n\u001B[1;32m    467\u001B[0m \u001B[43m    \u001B[49m\u001B[43mpath\u001B[49m\u001B[43m,\u001B[49m\n\u001B[1;32m    468\u001B[0m \u001B[43m    \u001B[49m\u001B[43moptions\u001B[49m\u001B[43m,\u001B[49m\n\u001B[1;32m    469\u001B[0m \u001B[43m    \u001B[49m\u001B[43mgraph\u001B[49m\u001B[43m)\u001B[49m\n",
      "File \u001B[0;32m~/bigraph-viz/bigraph_viz/visualize.py:103\u001B[0m, in \u001B[0;36mgraphviz_any\u001B[0;34m(core, schema, state, path, options, graph)\u001B[0m\n\u001B[1;32m    101\u001B[0m         \u001B[38;5;28;01mif\u001B[39;00m \u001B[38;5;129;01mnot\u001B[39;00m is_schema_key(key):\n\u001B[1;32m    102\u001B[0m             subpath \u001B[38;5;241m=\u001B[39m path \u001B[38;5;241m+\u001B[39m (key,)                \n\u001B[0;32m--> 103\u001B[0m             graph \u001B[38;5;241m=\u001B[39m \u001B[43mcore\u001B[49m\u001B[38;5;241;43m.\u001B[39;49m\u001B[43mget_graph_dict\u001B[49m\u001B[43m(\u001B[49m\n\u001B[1;32m    104\u001B[0m \u001B[43m                \u001B[49m\u001B[43mschema\u001B[49m\u001B[38;5;241;43m.\u001B[39;49m\u001B[43mget\u001B[49m\u001B[43m(\u001B[49m\u001B[43mkey\u001B[49m\u001B[43m)\u001B[49m\u001B[43m,\u001B[49m\n\u001B[1;32m    105\u001B[0m \u001B[43m                \u001B[49m\u001B[43mvalue\u001B[49m\u001B[43m,\u001B[49m\n\u001B[1;32m    106\u001B[0m \u001B[43m                \u001B[49m\u001B[43msubpath\u001B[49m\u001B[43m,\u001B[49m\n\u001B[1;32m    107\u001B[0m \u001B[43m                \u001B[49m\u001B[43moptions\u001B[49m\u001B[43m,\u001B[49m\n\u001B[1;32m    108\u001B[0m \u001B[43m                \u001B[49m\u001B[43mgraph\u001B[49m\u001B[43m)\u001B[49m\n\u001B[1;32m    110\u001B[0m \u001B[38;5;28;01mreturn\u001B[39;00m graph\n",
      "File \u001B[0;32m~/bigraph-viz/bigraph_viz/visualize.py:463\u001B[0m, in \u001B[0;36mVisualizeTypes.get_graph_dict\u001B[0;34m(self, schema, state, path, options, graph)\u001B[0m\n\u001B[1;32m    449\u001B[0m graph \u001B[38;5;241m=\u001B[39m graph \u001B[38;5;129;01mor\u001B[39;00m {\n\u001B[1;32m    450\u001B[0m     \u001B[38;5;124m'\u001B[39m\u001B[38;5;124mstate_nodes\u001B[39m\u001B[38;5;124m'\u001B[39m: [],\n\u001B[1;32m    451\u001B[0m     \u001B[38;5;124m'\u001B[39m\u001B[38;5;124mprocess_nodes\u001B[39m\u001B[38;5;124m'\u001B[39m: [],\n\u001B[0;32m   (...)\u001B[0m\n\u001B[1;32m    455\u001B[0m     \u001B[38;5;124m'\u001B[39m\u001B[38;5;124mdisconnected_input_edges\u001B[39m\u001B[38;5;124m'\u001B[39m: [],\n\u001B[1;32m    456\u001B[0m     \u001B[38;5;124m'\u001B[39m\u001B[38;5;124mdisconnected_output_edges\u001B[39m\u001B[38;5;124m'\u001B[39m: []}\n\u001B[1;32m    458\u001B[0m graphviz_function \u001B[38;5;241m=\u001B[39m \u001B[38;5;28mself\u001B[39m\u001B[38;5;241m.\u001B[39mchoose_method(\n\u001B[1;32m    459\u001B[0m     schema,\n\u001B[1;32m    460\u001B[0m     state,\n\u001B[1;32m    461\u001B[0m     \u001B[38;5;124m'\u001B[39m\u001B[38;5;124mgraphviz\u001B[39m\u001B[38;5;124m'\u001B[39m)\n\u001B[0;32m--> 463\u001B[0m \u001B[38;5;28;01mreturn\u001B[39;00m \u001B[43mgraphviz_function\u001B[49m\u001B[43m(\u001B[49m\n\u001B[1;32m    464\u001B[0m \u001B[43m    \u001B[49m\u001B[38;5;28;43mself\u001B[39;49m\u001B[43m,\u001B[49m\n\u001B[1;32m    465\u001B[0m \u001B[43m    \u001B[49m\u001B[43mschema\u001B[49m\u001B[43m,\u001B[49m\n\u001B[1;32m    466\u001B[0m \u001B[43m    \u001B[49m\u001B[43mstate\u001B[49m\u001B[43m,\u001B[49m\n\u001B[1;32m    467\u001B[0m \u001B[43m    \u001B[49m\u001B[43mpath\u001B[49m\u001B[43m,\u001B[49m\n\u001B[1;32m    468\u001B[0m \u001B[43m    \u001B[49m\u001B[43moptions\u001B[49m\u001B[43m,\u001B[49m\n\u001B[1;32m    469\u001B[0m \u001B[43m    \u001B[49m\u001B[43mgraph\u001B[49m\u001B[43m)\u001B[49m\n",
      "File \u001B[0;32m~/bigraph-viz/bigraph_viz/visualize.py:103\u001B[0m, in \u001B[0;36mgraphviz_any\u001B[0;34m(core, schema, state, path, options, graph)\u001B[0m\n\u001B[1;32m    101\u001B[0m         \u001B[38;5;28;01mif\u001B[39;00m \u001B[38;5;129;01mnot\u001B[39;00m is_schema_key(key):\n\u001B[1;32m    102\u001B[0m             subpath \u001B[38;5;241m=\u001B[39m path \u001B[38;5;241m+\u001B[39m (key,)                \n\u001B[0;32m--> 103\u001B[0m             graph \u001B[38;5;241m=\u001B[39m \u001B[43mcore\u001B[49m\u001B[38;5;241;43m.\u001B[39;49m\u001B[43mget_graph_dict\u001B[49m\u001B[43m(\u001B[49m\n\u001B[1;32m    104\u001B[0m \u001B[43m                \u001B[49m\u001B[43mschema\u001B[49m\u001B[38;5;241;43m.\u001B[39;49m\u001B[43mget\u001B[49m\u001B[43m(\u001B[49m\u001B[43mkey\u001B[49m\u001B[43m)\u001B[49m\u001B[43m,\u001B[49m\n\u001B[1;32m    105\u001B[0m \u001B[43m                \u001B[49m\u001B[43mvalue\u001B[49m\u001B[43m,\u001B[49m\n\u001B[1;32m    106\u001B[0m \u001B[43m                \u001B[49m\u001B[43msubpath\u001B[49m\u001B[43m,\u001B[49m\n\u001B[1;32m    107\u001B[0m \u001B[43m                \u001B[49m\u001B[43moptions\u001B[49m\u001B[43m,\u001B[49m\n\u001B[1;32m    108\u001B[0m \u001B[43m                \u001B[49m\u001B[43mgraph\u001B[49m\u001B[43m)\u001B[49m\n\u001B[1;32m    110\u001B[0m \u001B[38;5;28;01mreturn\u001B[39;00m graph\n",
      "File \u001B[0;32m~/bigraph-viz/bigraph_viz/visualize.py:463\u001B[0m, in \u001B[0;36mVisualizeTypes.get_graph_dict\u001B[0;34m(self, schema, state, path, options, graph)\u001B[0m\n\u001B[1;32m    449\u001B[0m graph \u001B[38;5;241m=\u001B[39m graph \u001B[38;5;129;01mor\u001B[39;00m {\n\u001B[1;32m    450\u001B[0m     \u001B[38;5;124m'\u001B[39m\u001B[38;5;124mstate_nodes\u001B[39m\u001B[38;5;124m'\u001B[39m: [],\n\u001B[1;32m    451\u001B[0m     \u001B[38;5;124m'\u001B[39m\u001B[38;5;124mprocess_nodes\u001B[39m\u001B[38;5;124m'\u001B[39m: [],\n\u001B[0;32m   (...)\u001B[0m\n\u001B[1;32m    455\u001B[0m     \u001B[38;5;124m'\u001B[39m\u001B[38;5;124mdisconnected_input_edges\u001B[39m\u001B[38;5;124m'\u001B[39m: [],\n\u001B[1;32m    456\u001B[0m     \u001B[38;5;124m'\u001B[39m\u001B[38;5;124mdisconnected_output_edges\u001B[39m\u001B[38;5;124m'\u001B[39m: []}\n\u001B[1;32m    458\u001B[0m graphviz_function \u001B[38;5;241m=\u001B[39m \u001B[38;5;28mself\u001B[39m\u001B[38;5;241m.\u001B[39mchoose_method(\n\u001B[1;32m    459\u001B[0m     schema,\n\u001B[1;32m    460\u001B[0m     state,\n\u001B[1;32m    461\u001B[0m     \u001B[38;5;124m'\u001B[39m\u001B[38;5;124mgraphviz\u001B[39m\u001B[38;5;124m'\u001B[39m)\n\u001B[0;32m--> 463\u001B[0m \u001B[38;5;28;01mreturn\u001B[39;00m \u001B[43mgraphviz_function\u001B[49m\u001B[43m(\u001B[49m\n\u001B[1;32m    464\u001B[0m \u001B[43m    \u001B[49m\u001B[38;5;28;43mself\u001B[39;49m\u001B[43m,\u001B[49m\n\u001B[1;32m    465\u001B[0m \u001B[43m    \u001B[49m\u001B[43mschema\u001B[49m\u001B[43m,\u001B[49m\n\u001B[1;32m    466\u001B[0m \u001B[43m    \u001B[49m\u001B[43mstate\u001B[49m\u001B[43m,\u001B[49m\n\u001B[1;32m    467\u001B[0m \u001B[43m    \u001B[49m\u001B[43mpath\u001B[49m\u001B[43m,\u001B[49m\n\u001B[1;32m    468\u001B[0m \u001B[43m    \u001B[49m\u001B[43moptions\u001B[49m\u001B[43m,\u001B[49m\n\u001B[1;32m    469\u001B[0m \u001B[43m    \u001B[49m\u001B[43mgraph\u001B[49m\u001B[43m)\u001B[49m\n",
      "File \u001B[0;32m~/bigraph-viz/bigraph_viz/visualize.py:104\u001B[0m, in \u001B[0;36mgraphviz_any\u001B[0;34m(core, schema, state, path, options, graph)\u001B[0m\n\u001B[1;32m    101\u001B[0m         \u001B[38;5;28;01mif\u001B[39;00m \u001B[38;5;129;01mnot\u001B[39;00m is_schema_key(key):\n\u001B[1;32m    102\u001B[0m             subpath \u001B[38;5;241m=\u001B[39m path \u001B[38;5;241m+\u001B[39m (key,)                \n\u001B[1;32m    103\u001B[0m             graph \u001B[38;5;241m=\u001B[39m core\u001B[38;5;241m.\u001B[39mget_graph_dict(\n\u001B[0;32m--> 104\u001B[0m                 \u001B[43mschema\u001B[49m\u001B[38;5;241;43m.\u001B[39;49m\u001B[43mget\u001B[49m(key),\n\u001B[1;32m    105\u001B[0m                 value,\n\u001B[1;32m    106\u001B[0m                 subpath,\n\u001B[1;32m    107\u001B[0m                 options,\n\u001B[1;32m    108\u001B[0m                 graph)\n\u001B[1;32m    110\u001B[0m \u001B[38;5;28;01mreturn\u001B[39;00m graph\n",
      "\u001B[0;31mAttributeError\u001B[0m: 'NoneType' object has no attribute 'get'"
     ]
    }
   ],
   "execution_count": 14
  },
  {
   "metadata": {
    "ExecuteTime": {
     "end_time": "2025-02-10T20:47:31.722502Z",
     "start_time": "2025-02-10T20:47:31.605231Z"
    }
   },
   "cell_type": "code",
   "source": "v.run(interval=100)",
   "id": "8c64bd1469f78b90",
   "outputs": [
    {
     "ename": "KeyError",
     "evalue": "'instance'",
     "output_type": "error",
     "traceback": [
      "\u001B[0;31m---------------------------------------------------------------------------\u001B[0m",
      "\u001B[0;31mKeyError\u001B[0m                                  Traceback (most recent call last)",
      "Cell \u001B[0;32mIn[16], line 1\u001B[0m\n\u001B[0;32m----> 1\u001B[0m \u001B[43mv\u001B[49m\u001B[38;5;241;43m.\u001B[39;49m\u001B[43mrun\u001B[49m\u001B[43m(\u001B[49m\u001B[43minterval\u001B[49m\u001B[38;5;241;43m=\u001B[39;49m\u001B[38;5;241;43m100\u001B[39;49m\u001B[43m)\u001B[49m\n",
      "File \u001B[0;32m~/PycharmProjects/vivarium-interface/vivarium/vivarium.py:325\u001B[0m, in \u001B[0;36mVivarium.run\u001B[0;34m(self, interval)\u001B[0m\n\u001B[1;32m    321\u001B[0m \u001B[38;5;28;01mdef\u001B[39;00m \u001B[38;5;21mrun\u001B[39m(\u001B[38;5;28mself\u001B[39m, interval):\n\u001B[1;32m    322\u001B[0m \u001B[38;5;250m    \u001B[39m\u001B[38;5;124;03m\"\"\"\u001B[39;00m\n\u001B[1;32m    323\u001B[0m \u001B[38;5;124;03m    Run the simulation for a given interval.\u001B[39;00m\n\u001B[1;32m    324\u001B[0m \u001B[38;5;124;03m    \"\"\"\u001B[39;00m\n\u001B[0;32m--> 325\u001B[0m     \u001B[38;5;28;43mself\u001B[39;49m\u001B[38;5;241;43m.\u001B[39;49m\u001B[43mcomposite\u001B[49m\u001B[38;5;241;43m.\u001B[39;49m\u001B[43mrun\u001B[49m\u001B[43m(\u001B[49m\u001B[43minterval\u001B[49m\u001B[43m)\u001B[49m\n",
      "File \u001B[0;32m/opt/anaconda3/envs/fbapractice/lib/python3.9/site-packages/process_bigraph/composite.py:1153\u001B[0m, in \u001B[0;36mComposite.run\u001B[0;34m(self, interval, force_complete)\u001B[0m\n\u001B[1;32m   1150\u001B[0m \u001B[38;5;28;01mdef\u001B[39;00m \u001B[38;5;21mrun\u001B[39m(\u001B[38;5;28mself\u001B[39m, interval, force_complete\u001B[38;5;241m=\u001B[39m\u001B[38;5;28;01mFalse\u001B[39;00m):\n\u001B[1;32m   1151\u001B[0m     \u001B[38;5;66;03m# If there are steps to run, execute them\u001B[39;00m\n\u001B[1;32m   1152\u001B[0m     \u001B[38;5;28;01mif\u001B[39;00m \u001B[38;5;28mself\u001B[39m\u001B[38;5;241m.\u001B[39mto_run:\n\u001B[0;32m-> 1153\u001B[0m         \u001B[38;5;28;43mself\u001B[39;49m\u001B[38;5;241;43m.\u001B[39;49m\u001B[43mrun_steps\u001B[49m\u001B[43m(\u001B[49m\u001B[38;5;28;43mself\u001B[39;49m\u001B[38;5;241;43m.\u001B[39;49m\u001B[43mto_run\u001B[49m\u001B[43m)\u001B[49m\n\u001B[1;32m   1154\u001B[0m         \u001B[38;5;28mself\u001B[39m\u001B[38;5;241m.\u001B[39mto_run \u001B[38;5;241m=\u001B[39m \u001B[38;5;28;01mNone\u001B[39;00m\n\u001B[1;32m   1156\u001B[0m     \u001B[38;5;66;03m# Define the end time for the run\u001B[39;00m\n",
      "File \u001B[0;32m/opt/anaconda3/envs/fbapractice/lib/python3.9/site-packages/process_bigraph/composite.py:1235\u001B[0m, in \u001B[0;36mComposite.run_steps\u001B[0;34m(self, step_paths)\u001B[0m\n\u001B[1;32m   1225\u001B[0m     step \u001B[38;5;241m=\u001B[39m get_path(\n\u001B[1;32m   1226\u001B[0m         \u001B[38;5;28mself\u001B[39m\u001B[38;5;241m.\u001B[39mstate,\n\u001B[1;32m   1227\u001B[0m         step_path)\n\u001B[1;32m   1229\u001B[0m     state \u001B[38;5;241m=\u001B[39m \u001B[38;5;28mself\u001B[39m\u001B[38;5;241m.\u001B[39mcore\u001B[38;5;241m.\u001B[39mview_edge(\n\u001B[1;32m   1230\u001B[0m         \u001B[38;5;28mself\u001B[39m\u001B[38;5;241m.\u001B[39mcomposition,\n\u001B[1;32m   1231\u001B[0m         \u001B[38;5;28mself\u001B[39m\u001B[38;5;241m.\u001B[39mstate,\n\u001B[1;32m   1232\u001B[0m         step_path,\n\u001B[1;32m   1233\u001B[0m         \u001B[38;5;124m'\u001B[39m\u001B[38;5;124minputs\u001B[39m\u001B[38;5;124m'\u001B[39m)\n\u001B[0;32m-> 1235\u001B[0m     step_update \u001B[38;5;241m=\u001B[39m \u001B[38;5;28;43mself\u001B[39;49m\u001B[38;5;241;43m.\u001B[39;49m\u001B[43mprocess_update\u001B[49m\u001B[43m(\u001B[49m\n\u001B[1;32m   1236\u001B[0m \u001B[43m        \u001B[49m\u001B[43mstep_path\u001B[49m\u001B[43m,\u001B[49m\n\u001B[1;32m   1237\u001B[0m \u001B[43m        \u001B[49m\u001B[43mstep\u001B[49m\u001B[43m,\u001B[49m\n\u001B[1;32m   1238\u001B[0m \u001B[43m        \u001B[49m\u001B[43mstate\u001B[49m\u001B[43m,\u001B[49m\n\u001B[1;32m   1239\u001B[0m \u001B[43m        \u001B[49m\u001B[38;5;241;43m-\u001B[39;49m\u001B[38;5;241;43m1.0\u001B[39;49m\u001B[43m,\u001B[49m\n\u001B[1;32m   1240\u001B[0m \u001B[43m        \u001B[49m\u001B[38;5;124;43m'\u001B[39;49m\u001B[38;5;124;43moutputs\u001B[39;49m\u001B[38;5;124;43m'\u001B[39;49m\u001B[43m)\u001B[49m\n\u001B[1;32m   1242\u001B[0m     updates\u001B[38;5;241m.\u001B[39mappend(step_update)\n\u001B[1;32m   1244\u001B[0m update_paths \u001B[38;5;241m=\u001B[39m \u001B[38;5;28mself\u001B[39m\u001B[38;5;241m.\u001B[39mapply_updates(updates)\n",
      "File \u001B[0;32m/opt/anaconda3/envs/fbapractice/lib/python3.9/site-packages/process_bigraph/composite.py:1004\u001B[0m, in \u001B[0;36mComposite.process_update\u001B[0;34m(self, path, process, states, interval, ports_key)\u001B[0m\n\u001B[1;32m    982\u001B[0m \u001B[38;5;250m\u001B[39m\u001B[38;5;124;03m\"\"\"Start generating a process's update.\u001B[39;00m\n\u001B[1;32m    983\u001B[0m \n\u001B[1;32m    984\u001B[0m \u001B[38;5;124;03mThis function is similar to :py:meth:`_invoke_process` except in\u001B[39;00m\n\u001B[0;32m   (...)\u001B[0m\n\u001B[1;32m    999\u001B[0m \u001B[38;5;124;03m    ``store``.\u001B[39;00m\n\u001B[1;32m   1000\u001B[0m \u001B[38;5;124;03m\"\"\"\u001B[39;00m\n\u001B[1;32m   1002\u001B[0m states \u001B[38;5;241m=\u001B[39m strip_schema_keys(states)\n\u001B[0;32m-> 1004\u001B[0m update \u001B[38;5;241m=\u001B[39m \u001B[43mprocess\u001B[49m\u001B[43m[\u001B[49m\u001B[38;5;124;43m'\u001B[39;49m\u001B[38;5;124;43minstance\u001B[39;49m\u001B[38;5;124;43m'\u001B[39;49m\u001B[43m]\u001B[49m\u001B[38;5;241m.\u001B[39minvoke(states, interval)\n\u001B[1;32m   1006\u001B[0m \u001B[38;5;28;01mdef\u001B[39;00m \u001B[38;5;21mdefer_project\u001B[39m(update, args):\n\u001B[1;32m   1007\u001B[0m     schema, state, path \u001B[38;5;241m=\u001B[39m args\n",
      "\u001B[0;31mKeyError\u001B[0m: 'instance'"
     ]
    }
   ],
   "execution_count": 16
  },
  {
   "metadata": {},
   "cell_type": "code",
   "source": [
    "name2 = \"Listeria monocytogenes\"\n",
    "model_file_2 = \"/Users/tasnifrahman/Research/ecolicommunity/agora2/Listeria_monocytogenes_SLCC_2378.xml\"\n",
    "model_2 = model_from_file(model_file=model_file_2)\n",
    "media_2 = DFBAconfig(model=model_2, medium_type='minimal')\n",
    "initial_counts = initial_conditions(model=model_2, biomass=0.2, medium_type='default', name=name2)\n",
    "initial_env = initial_environment(volume=2.0, initial_counts= initial_counts)\n",
    "config_2 = dfba_config(\n",
    "    model_file = model_file_2,\n",
    "    name = name2,\n",
    "    kinetics = media_2.kinetics,\n",
    "    reaction_map = media_2.reaction_map,\n",
    "    biomass_identifier = media_2.biomass_indentifier,\n",
    "    bounds = None,\n",
    ")"
   ],
   "id": "be85cb1f90879f2f",
   "outputs": [],
   "execution_count": null
  },
  {
   "metadata": {},
   "cell_type": "code",
   "source": "model_1.metabolites[50]",
   "id": "376ad1c2743c7e8b",
   "outputs": [],
   "execution_count": null
  },
  {
   "metadata": {
    "ExecuteTime": {
     "end_time": "2025-02-10T20:38:08.997626Z",
     "start_time": "2025-02-10T20:38:08.990251Z"
    }
   },
   "cell_type": "code",
   "source": "v",
   "id": "d9122bffaf77cc58",
   "outputs": [
    {
     "data": {
      "text/plain": [
       "Vivarium( \n",
       "{ 'Escherichia coli K12': { 'address': 'local:DFBA',\n",
       "                            'config': { 'biomass_identifier': 'BIOMASS_Ec_iAF1260_core_59p81M',\n",
       "                                        'bounds': { 'ATPM': { 'lower': 1,\n",
       "                                                              'upper': 1},\n",
       "                                                    'EX_o2_e': { 'lower': -2,\n",
       "                                                                 'upper': {}}},\n",
       "                                        'interval': 0.1,\n",
       "                                        'kinetics': { 'Ammonia': (0.5, 2.0),\n",
       "                                                      'Calcium': (0.5, 2.0),\n",
       "                                                      'Chloride': (0.5, 2.0),\n",
       "                                                      'Co2+': (0.5, 2.0),\n",
       "                                                      'Cu2+': (0.5, 2.0),\n",
       "                                                      'D-Glucose': (0.5, 2.0),\n",
       "                                                      'Fe2+': (0.5, 2.0),\n",
       "                                                      'Fe3+': (0.5, 2.0),\n",
       "                                                      'K+': (0.5, 2.0),\n",
       "                                                      'Mg': (0.5, 2.0),\n",
       "                                                      'Mn2+': (0.5, 2.0),\n",
       "                                                      'Molybdate': (0.5, 2.0),\n",
       "                                                      'O2': (0.5, 2.0),\n",
       "                                                      'Phosphate': (0.5, 2.0),\n",
       "                                                      'Sulfate': (0.5, 2.0),\n",
       "                                                      'Zinc': (0.5, 2.0)},\n",
       "                                        'model_file': 'iAF1260',\n",
       "                                        'name': 'Escherichia coli K12',\n",
       "                                        'reaction_map': { 'Ammonia': 'EX_nh4_e',\n",
       "                                                          'Calcium': 'EX_ca2_e',\n",
       "                                                          'Chloride': 'EX_cl_e',\n",
       "                                                          'Co2+': 'EX_cobalt2_e',\n",
       "                                                          'Cu2+': 'EX_cu2_e',\n",
       "                                                          'D-Glucose': 'EX_glc__D_e',\n",
       "                                                          'Fe2+': 'EX_fe2_e',\n",
       "                                                          'Fe3+': 'EX_fe3_e',\n",
       "                                                          'K+': 'EX_k_e',\n",
       "                                                          'Mg': 'EX_mg2_e',\n",
       "                                                          'Mn2+': 'EX_mn2_e',\n",
       "                                                          'Molybdate': 'EX_mobd_e',\n",
       "                                                          'O2': 'EX_o2_e',\n",
       "                                                          'Phosphate': 'EX_pi_e',\n",
       "                                                          'Sulfate': 'EX_so4_e',\n",
       "                                                          'Zinc': 'EX_zn2_e'}},\n",
       "                            'inputs': { 'current_update': ['dFBA Results'],\n",
       "                                        'shared_environment': [ 'shared '\n",
       "                                                                'environment']},\n",
       "                            'outputs': { 'dfba_update': [ 'dFBA Results',\n",
       "                                                          'Escherichia coli '\n",
       "                                                          'K12']}},\n",
       "  'UpdateEnvironment': { 'address': 'local:UpdateEnvironment',\n",
       "                         'config': {},\n",
       "                         'inputs': { 'shared_environment': [ 'shared '\n",
       "                                                             'environment'],\n",
       "                                     'species_updates': ['dFBA Results']},\n",
       "                         'outputs': { 'shared_environment': [ 'shared '\n",
       "                                                              'environment']}},\n",
       "  'dFBA Results': {'Escherichia coli K12': None},\n",
       "  'emitter': { 'address': 'local:ram-emitter',\n",
       "               'config': { 'emit': { 'dFBA Results': 'any',\n",
       "                                     'global_time': 'any',\n",
       "                                     'shared environment': 'any'}},\n",
       "               'inputs': { 'dFBA Results': ['dFBA Results'],\n",
       "                           'global_time': ['global_time'],\n",
       "                           'shared environment': ['shared environment']},\n",
       "               'outputs': None},\n",
       "  'global_time': 0.0,\n",
       "  'shared environment': { 'concentrations': { 'Ammonia': 7.94461239275681,\n",
       "                                              'Calcium': 0.003489752347402901,\n",
       "                                              'Chloride': 0.0034897523474029016,\n",
       "                                              'Co2+': 0.0023265015649352678,\n",
       "                                              'Cu2+': 0.0023265015649352673,\n",
       "                                              'D-Glucose': 8.0,\n",
       "                                              'Escherichia coli K12': 0.1,\n",
       "                                              'Fe2+': 0.005563565490307518,\n",
       "                                              'Fe3+': 0.005234996871573785,\n",
       "                                              'K+': 0.13083808674240138,\n",
       "                                              'Mg': 0.00581625391233817,\n",
       "                                              'Mn2+': 0.0023265015649352678,\n",
       "                                              'Molybdate': 0.0023265015649352673,\n",
       "                                              'O2': 16.26560514511869,\n",
       "                                              'Phosphate': 0.7082023997460544,\n",
       "                                              'Sulfate': 0.184359409950934,\n",
       "                                              'Zinc': 0.0023265015649352678},\n",
       "                          'counts': { 'Ammonia': 7.94461239275681,\n",
       "                                      'Calcium': 0.003489752347402901,\n",
       "                                      'Chloride': 0.0034897523474029016,\n",
       "                                      'Co2+': 0.0023265015649352678,\n",
       "                                      'Cu2+': 0.0023265015649352673,\n",
       "                                      'D-Glucose': 8.0,\n",
       "                                      'Escherichia coli K12': 0.1,\n",
       "                                      'Fe2+': 0.005563565490307518,\n",
       "                                      'Fe3+': 0.005234996871573785,\n",
       "                                      'K+': 0.13083808674240138,\n",
       "                                      'Mg': 0.00581625391233817,\n",
       "                                      'Mn2+': 0.0023265015649352678,\n",
       "                                      'Molybdate': 0.0023265015649352673,\n",
       "                                      'O2': 16.26560514511869,\n",
       "                                      'Phosphate': 0.7082023997460544,\n",
       "                                      'Sulfate': 0.184359409950934,\n",
       "                                      'Zinc': 0.0023265015649352678},\n",
       "                          'volume': 1.0}})"
      ]
     },
     "execution_count": 15,
     "metadata": {},
     "output_type": "execute_result"
    }
   ],
   "execution_count": 15
  },
  {
   "metadata": {},
   "cell_type": "code",
   "outputs": [],
   "execution_count": null,
   "source": "",
   "id": "1da826412c707e0c"
  }
 ],
 "metadata": {
  "kernelspec": {
   "display_name": "Python 3",
   "language": "python",
   "name": "python3"
  },
  "language_info": {
   "codemirror_mode": {
    "name": "ipython",
    "version": 2
   },
   "file_extension": ".py",
   "mimetype": "text/x-python",
   "name": "python",
   "nbconvert_exporter": "python",
   "pygments_lexer": "ipython2",
   "version": "2.7.6"
  }
 },
 "nbformat": 4,
 "nbformat_minor": 5
}
