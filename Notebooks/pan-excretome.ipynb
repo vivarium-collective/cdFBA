{
 "cells": [
  {
   "metadata": {},
   "cell_type": "markdown",
   "source": [
    "# Pan-secretome Simulations\n",
    "\n",
    "Here we will simulate bacterial community metabolic dynamics using `cdFBA` and include every secreted and uptaken substrate for all species involved in the simulation. To do this, we will use three representative species from the human gut microbiome as identified by Maya Abdalla"
   ],
   "id": "8ad3df69067b1182"
  },
  {
   "metadata": {
    "ExecuteTime": {
     "end_time": "2025-02-27T19:57:00.350329Z",
     "start_time": "2025-02-27T19:56:59.375883Z"
    }
   },
   "cell_type": "code",
   "source": [
    "from copy import deepcopy\n",
    "import time\n",
    "\n",
    "from process_bigraph import Composite\n",
    "from process_bigraph.composite import ProcessTypes\n",
    "\n",
    "from cdFBA import register_types\n",
    "from cdFBA.processes.dfba import DFBA, UpdateEnvironment, Chemostat, Injector, WaveFunction\n",
    "\n",
    "from cdFBA.utils import make_cdfba_composite, get_injector_spec, get_wave_spec, get_chemo_spec, get_exchanges, get_initial_counts, set_counts, get_combined_exchanges\n",
    "\n",
    "from matplotlib import pyplot as plt\n",
    "from pprint import pprint\n",
    "\n",
    "import cProfile\n",
    "import pstats\n",
    "import io"
   ],
   "id": "b41d361f8a3185c1",
   "outputs": [
    {
     "name": "stderr",
     "output_type": "stream",
     "text": [
      "<unknown>:1: SyntaxWarning: invalid escape sequence '\\s'\n"
     ]
    }
   ],
   "execution_count": 1
  },
  {
   "metadata": {
    "ExecuteTime": {
     "end_time": "2025-02-27T19:57:26.628806Z",
     "start_time": "2025-02-27T19:57:00.408361Z"
    }
   },
   "cell_type": "code",
   "source": [
    "model_dict = {\n",
    "        'E.coli' : 'iAF1260',\n",
    "        'S.flexneri' : 'iSFxv_1172'\n",
    "    }\n",
    "volume = 2\n",
    "spec = make_cdfba_composite(\n",
    "    model_dict,\n",
    "    medium_type='minimal',\n",
    "    exchanges=None,\n",
    "    volume=volume,\n",
    "    interval=1.0\n",
    ")"
   ],
   "id": "dc3f9b83c76c50de",
   "outputs": [],
   "execution_count": 2
  },
  {
   "metadata": {
    "ExecuteTime": {
     "end_time": "2025-02-27T20:19:00.287286Z",
     "start_time": "2025-02-27T20:18:54.485572Z"
    }
   },
   "cell_type": "code",
   "source": [
    "base_concentration = 1000\n",
    "exchanges = get_combined_exchanges(model_dict, medium_type='minimal')\n",
    "initial_counts = get_initial_counts(\n",
    "    model_dict,\n",
    "    biomass=0.5*volume,\n",
    "    initial_value=(base_concentration*volume),\n",
    "    exchanges=exchanges\n",
    ")"
   ],
   "id": "441e1445b7f9b2e6",
   "outputs": [],
   "execution_count": 11
  },
  {
   "metadata": {
    "ExecuteTime": {
     "end_time": "2025-02-27T20:19:00.302830Z",
     "start_time": "2025-02-27T20:19:00.301191Z"
    }
   },
   "cell_type": "code",
   "source": "set_counts(spec, initial_counts)",
   "id": "d5509ee093f23968",
   "outputs": [],
   "execution_count": 12
  },
  {
   "metadata": {
    "ExecuteTime": {
     "end_time": "2025-02-27T20:19:00.313053Z",
     "start_time": "2025-02-27T20:19:00.309740Z"
    }
   },
   "cell_type": "code",
   "source": "pprint(spec)",
   "id": "69b2612bda0e4003",
   "outputs": [
    {
     "name": "stdout",
     "output_type": "stream",
     "text": [
      "{'E.coli': {'_type': 'process',\n",
      "            'address': 'local:DFBA',\n",
      "            'config': {'biomass_identifier': 'BIOMASS_Ec_iAF1260_core_59p81M',\n",
      "                       'bounds': {},\n",
      "                       'kinetics': {'Ammonia': (0.5, 2.0),\n",
      "                                    'Calcium': (0.5, 2.0),\n",
      "                                    'Chloride': (0.5, 2.0),\n",
      "                                    'Co2+': (0.5, 2.0),\n",
      "                                    'Cu2+': (0.5, 2.0),\n",
      "                                    'D-Glucose': (0.5, 2.0),\n",
      "                                    'Fe2+': (0.5, 2.0),\n",
      "                                    'Fe3+': (0.5, 2.0),\n",
      "                                    'K+': (0.5, 2.0),\n",
      "                                    'Mg': (0.5, 2.0),\n",
      "                                    'Mn2+': (0.5, 2.0),\n",
      "                                    'Molybdate': (0.5, 2.0),\n",
      "                                    'O2': (0.5, 2.0),\n",
      "                                    'Phosphate': (0.5, 2.0),\n",
      "                                    'Sulfate': (0.5, 2.0),\n",
      "                                    'Zinc': (0.5, 2.0)},\n",
      "                       'model_file': 'iAF1260',\n",
      "                       'name': 'E.coli',\n",
      "                       'reaction_map': {'Ammonia': 'EX_nh4_e',\n",
      "                                        'Calcium': 'EX_ca2_e',\n",
      "                                        'Chloride': 'EX_cl_e',\n",
      "                                        'Co2+': 'EX_cobalt2_e',\n",
      "                                        'Cu2+': 'EX_cu2_e',\n",
      "                                        'D-Glucose': 'EX_glc__D_e',\n",
      "                                        'Fe2+': 'EX_fe2_e',\n",
      "                                        'Fe3+': 'EX_fe3_e',\n",
      "                                        'K+': 'EX_k_e',\n",
      "                                        'Mg': 'EX_mg2_e',\n",
      "                                        'Mn2+': 'EX_mn2_e',\n",
      "                                        'Molybdate': 'EX_mobd_e',\n",
      "                                        'O2': 'EX_o2_e',\n",
      "                                        'Phosphate': 'EX_pi_e',\n",
      "                                        'Sulfate': 'EX_so4_e',\n",
      "                                        'Zinc': 'EX_zn2_e'}},\n",
      "            'inputs': {'current_update': ['dFBA Results'],\n",
      "                       'shared_environment': ['shared environment']},\n",
      "            'interval': 1.0,\n",
      "            'outputs': {'dfba_update': ['dFBA Results', 'E.coli']}},\n",
      " 'S.flexneri': {'_type': 'process',\n",
      "                'address': 'local:DFBA',\n",
      "                'config': {'biomass_identifier': 'BIOMASS_Ec_iJO1366_core_53p95M',\n",
      "                           'bounds': {},\n",
      "                           'kinetics': {'Ammonia': (0.5, 2.0),\n",
      "                                        'Calcium': (0.5, 2.0),\n",
      "                                        'Chloride': (0.5, 2.0),\n",
      "                                        'Co2+': (0.5, 2.0),\n",
      "                                        'Cu2+': (0.5, 2.0),\n",
      "                                        'D-Glucose': (0.5, 2.0),\n",
      "                                        'Fe2+': (0.5, 2.0),\n",
      "                                        'K+': (0.5, 2.0),\n",
      "                                        'Mg': (0.5, 2.0),\n",
      "                                        'Mn2+': (0.5, 2.0),\n",
      "                                        'Molybdate': (0.5, 2.0),\n",
      "                                        'Ni2+': (0.5, 2.0),\n",
      "                                        'Nicotinate': (0.5, 2.0),\n",
      "                                        'O2': (0.5, 2.0),\n",
      "                                        'Phosphate': (0.5, 2.0),\n",
      "                                        'Sulfate': (0.5, 2.0),\n",
      "                                        'Zinc': (0.5, 2.0)},\n",
      "                           'model_file': 'iSFxv_1172',\n",
      "                           'name': 'S.flexneri',\n",
      "                           'reaction_map': {'Ammonia': 'EX_nh4_e',\n",
      "                                            'Calcium': 'EX_ca2_e',\n",
      "                                            'Chloride': 'EX_cl_e',\n",
      "                                            'Co2+': 'EX_cobalt2_e',\n",
      "                                            'Cu2+': 'EX_cu2_e',\n",
      "                                            'D-Glucose': 'EX_glc__D_e',\n",
      "                                            'Fe2+': 'EX_fe2_e',\n",
      "                                            'K+': 'EX_k_e',\n",
      "                                            'Mg': 'EX_mg2_e',\n",
      "                                            'Mn2+': 'EX_mn2_e',\n",
      "                                            'Molybdate': 'EX_mobd_e',\n",
      "                                            'Ni2+': 'EX_ni2_e',\n",
      "                                            'Nicotinate': 'EX_nac_e',\n",
      "                                            'O2': 'EX_o2_e',\n",
      "                                            'Phosphate': 'EX_pi_e',\n",
      "                                            'Sulfate': 'EX_so4_e',\n",
      "                                            'Zinc': 'EX_zn2_e'}},\n",
      "                'inputs': {'current_update': ['dFBA Results'],\n",
      "                           'shared_environment': ['shared environment']},\n",
      "                'interval': 1.0,\n",
      "                'outputs': {'dfba_update': ['dFBA Results', 'S.flexneri']}},\n",
      " 'dFBA Results': {'E.coli': {'Ammonia': 0,\n",
      "                             'Calcium': 0,\n",
      "                             'Chloride': 0,\n",
      "                             'Co2+': 0,\n",
      "                             'Cu2+': 0,\n",
      "                             'D-Glucose': 0,\n",
      "                             'E.coli': 0,\n",
      "                             'Fe2+': 0,\n",
      "                             'Fe3+': 0,\n",
      "                             'K+': 0,\n",
      "                             'Mg': 0,\n",
      "                             'Mn2+': 0,\n",
      "                             'Molybdate': 0,\n",
      "                             'O2': 0,\n",
      "                             'Phosphate': 0,\n",
      "                             'Sulfate': 0,\n",
      "                             'Zinc': 0},\n",
      "                  'S.flexneri': {'Ammonia': 0,\n",
      "                                 'Calcium': 0,\n",
      "                                 'Chloride': 0,\n",
      "                                 'Co2+': 0,\n",
      "                                 'Cu2+': 0,\n",
      "                                 'D-Glucose': 0,\n",
      "                                 'Fe2+': 0,\n",
      "                                 'K+': 0,\n",
      "                                 'Mg': 0,\n",
      "                                 'Mn2+': 0,\n",
      "                                 'Molybdate': 0,\n",
      "                                 'Ni2+': 0,\n",
      "                                 'Nicotinate': 0,\n",
      "                                 'O2': 0,\n",
      "                                 'Phosphate': 0,\n",
      "                                 'S.flexneri': 0,\n",
      "                                 'Sulfate': 0,\n",
      "                                 'Zinc': 0}},\n",
      " 'shared environment': {'concentrations': {'Ammonia': 1000.0,\n",
      "                                           'Calcium': 1000.0,\n",
      "                                           'Chloride': 1000.0,\n",
      "                                           'Co2+': 1000.0,\n",
      "                                           'Cu2+': 1000.0,\n",
      "                                           'D-Glucose': 1000.0,\n",
      "                                           'E.coli': 0.5,\n",
      "                                           'Fe2+': 1000.0,\n",
      "                                           'Fe3+': 1000.0,\n",
      "                                           'K+': 1000.0,\n",
      "                                           'Mg': 1000.0,\n",
      "                                           'Mn2+': 1000.0,\n",
      "                                           'Molybdate': 1000.0,\n",
      "                                           'Ni2+': 1000.0,\n",
      "                                           'Nicotinate': 1000.0,\n",
      "                                           'O2': 1000.0,\n",
      "                                           'Phosphate': 1000.0,\n",
      "                                           'S.flexneri': 0.5,\n",
      "                                           'Sulfate': 1000.0,\n",
      "                                           'Zinc': 1000.0},\n",
      "                        'counts': {'Ammonia': 2000,\n",
      "                                   'Calcium': 2000,\n",
      "                                   'Chloride': 2000,\n",
      "                                   'Co2+': 2000,\n",
      "                                   'Cu2+': 2000,\n",
      "                                   'D-Glucose': 2000,\n",
      "                                   'E.coli': 1.0,\n",
      "                                   'Fe2+': 2000,\n",
      "                                   'Fe3+': 2000,\n",
      "                                   'K+': 2000,\n",
      "                                   'Mg': 2000,\n",
      "                                   'Mn2+': 2000,\n",
      "                                   'Molybdate': 2000,\n",
      "                                   'Ni2+': 2000,\n",
      "                                   'Nicotinate': 2000,\n",
      "                                   'O2': 2000,\n",
      "                                   'Phosphate': 2000,\n",
      "                                   'S.flexneri': 1.0,\n",
      "                                   'Sulfate': 2000,\n",
      "                                   'Zinc': 2000},\n",
      "                        'volume': 2},\n",
      " 'update environment': {'_type': 'process',\n",
      "                        'address': 'local:UpdateEnvironment',\n",
      "                        'config': {},\n",
      "                        'inputs': {'shared_environment': ['shared environment'],\n",
      "                                   'species_updates': ['dFBA Results']},\n",
      "                        'outputs': {'shared_environment': ['shared '\n",
      "                                                           'environment']}}}\n"
     ]
    }
   ],
   "execution_count": 13
  },
  {
   "metadata": {},
   "cell_type": "code",
   "outputs": [],
   "execution_count": null,
   "source": "",
   "id": "633d57940e7d20b4"
  }
 ],
 "metadata": {
  "kernelspec": {
   "display_name": "Python 3",
   "language": "python",
   "name": "python3"
  },
  "language_info": {
   "codemirror_mode": {
    "name": "ipython",
    "version": 2
   },
   "file_extension": ".py",
   "mimetype": "text/x-python",
   "name": "python",
   "nbconvert_exporter": "python",
   "pygments_lexer": "ipython2",
   "version": "2.7.6"
  }
 },
 "nbformat": 4,
 "nbformat_minor": 5
}
