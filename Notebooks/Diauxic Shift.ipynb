{
 "cells": [
  {
   "cell_type": "markdown",
   "id": "d78886e4-ba21-4c8b-b0e8-f2fdc4a3aa33",
   "metadata": {},
   "source": [
    "# *Bacillus subtilis* Diauxic Shift\n",
    "\n",
    "Here we will attempt to reproduce the results from [Rosenthal et al. 2018](https://elifesciences.org/articles/33099). \n",
    "\n",
    "The shared environment will contain 50 mM Malate and 22 mM Glucose. We will assume that the environment is 1L in volume - to avoid unit conversions. \n",
    "\n",
    "Initial biomass is set to 0.5."
   ]
  },
  {
   "cell_type": "code",
   "id": "fe256aa9-4c98-4608-b45c-269566b08003",
   "metadata": {
    "ExecuteTime": {
     "end_time": "2025-03-07T19:16:36.182936Z",
     "start_time": "2025-03-07T19:16:36.180148Z"
    }
   },
   "source": [
    "from copy import deepcopy\n",
    "import cobra\n",
    "import cobra.flux_analysis\n",
    "from process_bigraph import Composite\n",
    "from process_bigraph.composite import ProcessTypes\n",
    "\n",
    "from cdFBA import register_types\n",
    "from cdFBA.processes.dfba import DFBA, UpdateEnvironment, StaticConcentration, Injector, WaveFunction\n",
    "\n",
    "from cdFBA.utils import make_cdfba_composite, get_injector_spec, get_wave_spec, get_static_spec, model_from_file, set_concentration, set_kinetics\n",
    "from cdFBA.utils import get_exchanges, get_substrates, get_reaction_map\n",
    "\n",
    "from matplotlib import pyplot as plt\n",
    "from pprint import pprint\n",
    "\n",
    "import cProfile\n",
    "import pstats\n",
    "import io"
   ],
   "outputs": [],
   "execution_count": 22
  },
  {
   "cell_type": "code",
   "id": "b6452ff1-a29f-4602-912f-b5e572038903",
   "metadata": {
    "ExecuteTime": {
     "end_time": "2025-03-07T19:16:36.192066Z",
     "start_time": "2025-03-07T19:16:36.190502Z"
    }
   },
   "source": "model_file = 'iYO844'",
   "outputs": [],
   "execution_count": 23
  },
  {
   "cell_type": "code",
   "id": "b6c5764d-b704-4dd3-8f56-138cfe1abc6f",
   "metadata": {
    "scrolled": true,
    "ExecuteTime": {
     "end_time": "2025-03-07T19:16:41.964437Z",
     "start_time": "2025-03-07T19:16:36.196958Z"
    }
   },
   "source": [
    "model_dict = {'B. subtilis': model_file}\n",
    "exchanges = ['EX_ac_e','EX_actn__R_e', 'EX_mal__L_e', 'EX_glc__D_e']\n",
    "#'EX_mal__L_e', 'EX_glc__D_e'\n",
    "volume = 1\n",
    "spec = make_cdfba_composite(model_dict, medium_type=None, exchanges=exchanges, volume=volume, interval=0.5)"
   ],
   "outputs": [],
   "execution_count": 24
  },
  {
   "metadata": {
    "ExecuteTime": {
     "end_time": "2025-03-07T19:16:41.972334Z",
     "start_time": "2025-03-07T19:16:41.969160Z"
    }
   },
   "cell_type": "code",
   "source": "spec",
   "id": "ab5701e0681f8c86",
   "outputs": [
    {
     "data": {
      "text/plain": [
       "{'dFBA Results': {'B. subtilis': {'Acetate': 0,\n",
       "   ' R  Acetoin C4H8O2': 0,\n",
       "   'L-Malate': 0,\n",
       "   'D-Glucose': 0,\n",
       "   'B. subtilis': 0}},\n",
       " 'shared environment': {'volume': 1,\n",
       "  'counts': {'D-Glucose': 20,\n",
       "   'L-Malate': 20,\n",
       "   'Acetate': 20,\n",
       "   ' R  Acetoin C4H8O2': 20,\n",
       "   'B. subtilis': 0.5},\n",
       "  'concentrations': {'D-Glucose': 20.0,\n",
       "   'L-Malate': 20.0,\n",
       "   'Acetate': 20.0,\n",
       "   ' R  Acetoin C4H8O2': 20.0,\n",
       "   'B. subtilis': 0.5}},\n",
       " 'B. subtilis': {'_type': 'process',\n",
       "  'address': 'local:DFBA',\n",
       "  'config': {'model_file': 'iYO844',\n",
       "   'name': 'B. subtilis',\n",
       "   'kinetics': {'Acetate': (0.5, 2.0),\n",
       "    ' R  Acetoin C4H8O2': (0.5, 2.0),\n",
       "    'L-Malate': (0.5, 2.0),\n",
       "    'D-Glucose': (0.5, 2.0)},\n",
       "   'reaction_map': {'Acetate': 'EX_ac_e',\n",
       "    ' R  Acetoin C4H8O2': 'EX_actn__R_e',\n",
       "    'L-Malate': 'EX_mal__L_e',\n",
       "    'D-Glucose': 'EX_glc__D_e'},\n",
       "   'biomass_identifier': 'BIOMASS_BS_10',\n",
       "   'bounds': {}},\n",
       "  'inputs': {'shared_environment': ['shared environment'],\n",
       "   'current_update': ['dFBA Results']},\n",
       "  'outputs': {'dfba_update': ['dFBA Results', 'B. subtilis']},\n",
       "  'interval': 0.5},\n",
       " 'update environment': {'_type': 'process',\n",
       "  'address': 'local:UpdateEnvironment',\n",
       "  'config': {},\n",
       "  'inputs': {'species_updates': ['dFBA Results'],\n",
       "   'shared_environment': ['shared environment']},\n",
       "  'outputs': {'shared_environment': ['shared environment']}}}"
      ]
     },
     "execution_count": 25,
     "metadata": {},
     "output_type": "execute_result"
    }
   ],
   "execution_count": 25
  },
  {
   "cell_type": "code",
   "id": "6edab3ed-caa2-4fa1-9b0b-b8cf990a5ac3",
   "metadata": {
    "scrolled": true,
    "ExecuteTime": {
     "end_time": "2025-03-07T19:16:41.983029Z",
     "start_time": "2025-03-07T19:16:41.981294Z"
    }
   },
   "source": [
    "#Set reaction bounds\n",
    "spec['B. subtilis']['config']['bounds'] = {\n",
    "            'EX_o2_e': {'lower': -2, 'upper': None},\n",
    "            'ATPM': {'lower': 1, 'upper': 1}\n",
    "        }\n",
    "#Set initial concentrations\n",
    "concentrations = {\n",
    "    'Acetate': 0,\n",
    "    'D-Glucose': 22,\n",
    "    'L-Malate': 55,\n",
    "    ' R  Acetoin C4H8O2': 0\n",
    "}\n",
    "set_concentration(spec, concentrations)\n"
   ],
   "outputs": [],
   "execution_count": 26
  },
  {
   "metadata": {
    "ExecuteTime": {
     "end_time": "2025-03-07T19:16:41.993362Z",
     "start_time": "2025-03-07T19:16:41.991284Z"
    }
   },
   "cell_type": "code",
   "source": "pprint(spec)",
   "id": "d10216dbb18a35ad",
   "outputs": [
    {
     "name": "stdout",
     "output_type": "stream",
     "text": [
      "{'B. subtilis': {'_type': 'process',\n",
      "                 'address': 'local:DFBA',\n",
      "                 'config': {'biomass_identifier': 'BIOMASS_BS_10',\n",
      "                            'bounds': {'ATPM': {'lower': 1, 'upper': 1},\n",
      "                                       'EX_o2_e': {'lower': -2, 'upper': None}},\n",
      "                            'kinetics': {' R  Acetoin C4H8O2': (0.5, 2.0),\n",
      "                                         'Acetate': (0.5, 2.0),\n",
      "                                         'D-Glucose': (0.5, 2.0),\n",
      "                                         'L-Malate': (0.5, 2.0)},\n",
      "                            'model_file': 'iYO844',\n",
      "                            'name': 'B. subtilis',\n",
      "                            'reaction_map': {' R  Acetoin C4H8O2': 'EX_actn__R_e',\n",
      "                                             'Acetate': 'EX_ac_e',\n",
      "                                             'D-Glucose': 'EX_glc__D_e',\n",
      "                                             'L-Malate': 'EX_mal__L_e'}},\n",
      "                 'inputs': {'current_update': ['dFBA Results'],\n",
      "                            'shared_environment': ['shared environment']},\n",
      "                 'interval': 0.5,\n",
      "                 'outputs': {'dfba_update': ['dFBA Results', 'B. subtilis']}},\n",
      " 'dFBA Results': {'B. subtilis': {' R  Acetoin C4H8O2': 0,\n",
      "                                  'Acetate': 0,\n",
      "                                  'B. subtilis': 0,\n",
      "                                  'D-Glucose': 0,\n",
      "                                  'L-Malate': 0}},\n",
      " 'shared environment': {'concentrations': {' R  Acetoin C4H8O2': 0,\n",
      "                                           'Acetate': 0,\n",
      "                                           'B. subtilis': 0.5,\n",
      "                                           'D-Glucose': 22,\n",
      "                                           'L-Malate': 55},\n",
      "                        'counts': {' R  Acetoin C4H8O2': 0,\n",
      "                                   'Acetate': 0,\n",
      "                                   'B. subtilis': 0.5,\n",
      "                                   'D-Glucose': 22,\n",
      "                                   'L-Malate': 55},\n",
      "                        'volume': 1},\n",
      " 'update environment': {'_type': 'process',\n",
      "                        'address': 'local:UpdateEnvironment',\n",
      "                        'config': {},\n",
      "                        'inputs': {'shared_environment': ['shared environment'],\n",
      "                                   'species_updates': ['dFBA Results']},\n",
      "                        'outputs': {'shared_environment': ['shared '\n",
      "                                                           'environment']}}}\n"
     ]
    }
   ],
   "execution_count": 27
  },
  {
   "cell_type": "code",
   "id": "f6c56efd-0729-4c34-862e-ad70da3f0e60",
   "metadata": {
    "ExecuteTime": {
     "end_time": "2025-03-07T19:16:42.004844Z",
     "start_time": "2025-03-07T19:16:42.003238Z"
    }
   },
   "source": [
    "#set emitter specs\n",
    "spec['emitter'] = {\n",
    "        \"_type\": \"step\",\n",
    "        \"address\": \"local:ram-emitter\",\n",
    "        \"config\": {\n",
    "            \"emit\": {\n",
    "                \"shared_environment\": \"any\",\n",
    "                \"global_time\": \"any\",\n",
    "            }\n",
    "        },\n",
    "        \"inputs\": {\n",
    "            \"shared_environment\": [\"shared environment\"],\n",
    "            \"global_time\": [\"global_time\"]\n",
    "        }\n",
    "    }"
   ],
   "outputs": [],
   "execution_count": 28
  },
  {
   "cell_type": "code",
   "id": "eeeaaf0f-3c63-4b9d-945f-fdfb0b7293f8",
   "metadata": {
    "ExecuteTime": {
     "end_time": "2025-03-07T19:16:42.016334Z",
     "start_time": "2025-03-07T19:16:42.009358Z"
    }
   },
   "source": [
    "#create the core object\n",
    "core = ProcessTypes()\n",
    "#register data types\n",
    "core = register_types(core)\n",
    "#register all processes and steps\n",
    "core.register_process('DFBA', DFBA)\n",
    "core.register_process('UpdateEnvironment', UpdateEnvironment)\n",
    "core.register_process('StaticConcentration', StaticConcentration)\n",
    "core.register_process('WaveFunction', WaveFunction)\n",
    "core.register_process('Injector', Injector)"
   ],
   "outputs": [],
   "execution_count": 29
  },
  {
   "cell_type": "code",
   "id": "1dea7ac5-2697-422d-befa-edab44edc49e",
   "metadata": {
    "ExecuteTime": {
     "end_time": "2025-03-07T19:16:42.676369Z",
     "start_time": "2025-03-07T19:16:42.020495Z"
    }
   },
   "source": [
    "#create simulation composite\n",
    "sim = Composite({\n",
    "        \"state\": spec,\n",
    "        },\n",
    "        core=core\n",
    "    )"
   ],
   "outputs": [],
   "execution_count": 30
  },
  {
   "cell_type": "code",
   "id": "12ac9229-4cb2-4c84-bd7c-6a7ba00dc46f",
   "metadata": {
    "ExecuteTime": {
     "end_time": "2025-03-07T19:16:46.624508Z",
     "start_time": "2025-03-07T19:16:42.680856Z"
    }
   },
   "source": "sim.run(100)",
   "outputs": [
    {
     "name": "stderr",
     "output_type": "stream",
     "text": [
      "/opt/anaconda3/envs/cdFBA/lib/python3.12/site-packages/cobra/util/solver.py:554: UserWarning: Solver status is 'infeasible'.\n",
      "  warn(f\"Solver status is '{status}'.\", UserWarning)\n"
     ]
    }
   ],
   "execution_count": 31
  },
  {
   "cell_type": "code",
   "id": "7f3c40ef-2cf6-45d3-8acb-1816c3ef94e0",
   "metadata": {
    "ExecuteTime": {
     "end_time": "2025-03-07T19:16:46.630617Z",
     "start_time": "2025-03-07T19:16:46.629129Z"
    }
   },
   "source": [
    "results = sim.gather_results()[('emitter',)]"
   ],
   "outputs": [],
   "execution_count": 32
  },
  {
   "cell_type": "code",
   "id": "4082f3c6-6489-4179-ae0a-6347e1c48518",
   "metadata": {
    "ExecuteTime": {
     "end_time": "2025-03-07T19:16:46.637447Z",
     "start_time": "2025-03-07T19:16:46.635305Z"
    }
   },
   "source": [
    "#extract time-series data\n",
    "timepoints = []\n",
    "for timepoint in results:\n",
    "    time = timepoint.pop('global_time')\n",
    "    timepoints.append(time)\n",
    "env = [timepoint['shared_environment']['concentrations'] for timepoint in results]\n",
    "env_combined = {}\n",
    "for d in env:\n",
    "    for key, value in d.items():\n",
    "        if key not in env_combined:\n",
    "            env_combined[key] = []\n",
    "        env_combined[key].append(value)"
   ],
   "outputs": [],
   "execution_count": 33
  },
  {
   "cell_type": "code",
   "id": "41906460-ffbe-4444-8367-1cfc9338213a",
   "metadata": {
    "ExecuteTime": {
     "end_time": "2025-03-07T19:16:46.682325Z",
     "start_time": "2025-03-07T19:16:46.641851Z"
    }
   },
   "source": [
    "#plot results for biomass\n",
    "fig, ax = plt.subplots(dpi=100)\n",
    "for key, value in env_combined.items():\n",
    "    if key not in []:\n",
    "        ax.plot(timepoints, env_combined[key], label=key)\n",
    "plt.xlabel('Time')\n",
    "plt.ylabel('Substrate Concentration')\n",
    "plt.legend()\n",
    "plt.tight_layout()\n",
    "plt.show()\n",
    "#'B. subtilis', 'Acetate', 'R Acetoin'"
   ],
   "outputs": [
    {
     "data": {
      "text/plain": [
       "<Figure size 640x480 with 1 Axes>"
      ],
      "image/png": "[encoded data removed]"
     },
     "metadata": {},
     "output_type": "display_data"
    }
   ],
   "execution_count": 34
  },
  {
   "cell_type": "code",
   "id": "356545be-4381-41db-887f-56c3a04de542",
   "metadata": {
    "scrolled": true,
    "ExecuteTime": {
     "end_time": "2025-03-07T19:15:53.245697Z",
     "start_time": "2025-03-07T19:15:53.240742Z"
    }
   },
   "source": [
    "results"
   ],
   "outputs": [
    {
     "data": {
      "text/plain": [
       "[{'shared_environment': {'concentrations': {'D-Glucose': 22,\n",
       "    'L-Malate': 55,\n",
       "    'Acetate': 0,\n",
       "    ' R  Acetoin C4H8O2': 0,\n",
       "    'B. subtilis': 0.5},\n",
       "   'counts': {'D-Glucose': 22,\n",
       "    'L-Malate': 55,\n",
       "    'Acetate': 0,\n",
       "    ' R  Acetoin C4H8O2': 0,\n",
       "    'B. subtilis': 0.5},\n",
       "   'volume': 1}},\n",
       " {'shared_environment': {'counts': {'D-Glucose': 22,\n",
       "    'L-Malate': 55,\n",
       "    'Acetate': 0,\n",
       "    ' R  Acetoin C4H8O2': 0,\n",
       "    'B. subtilis': 0.5},\n",
       "   'concentrations': {'D-Glucose': 22.0,\n",
       "    'L-Malate': 55.0,\n",
       "    'Acetate': 0.0,\n",
       "    ' R  Acetoin C4H8O2': 0.0,\n",
       "    'B. subtilis': 0.5},\n",
       "   'volume': 1}},\n",
       " {'shared_environment': {'counts': {'D-Glucose': np.float64(21.511111111111113),\n",
       "    'L-Malate': np.float64(54.5045045045045),\n",
       "    'Acetate': np.float64(0.47252385999311625),\n",
       "    ' R  Acetoin C4H8O2': 0,\n",
       "    'B. subtilis': np.float64(0.5241724118727866)},\n",
       "   'concentrations': {'D-Glucose': np.float64(21.511111111111113),\n",
       "    'L-Malate': np.float64(54.5045045045045),\n",
       "    'Acetate': np.float64(0.47252385999311625),\n",
       "    ' R  Acetoin C4H8O2': 0.0,\n",
       "    'B. subtilis': np.float64(0.5241724118727866)},\n",
       "   'volume': 1}},\n",
       " {'shared_environment': {'counts': {'D-Glucose': np.float64(20.998845694964867),\n",
       "    'L-Malate': np.float64(53.9850969061374),\n",
       "    'Acetate': np.float64(0.9678964806899121),\n",
       "    ' R  Acetoin C4H8O2': 0,\n",
       "    'B. subtilis': np.float64(0.5495093192397552)},\n",
       "   'concentrations': {'D-Glucose': np.float64(20.998845694964867),\n",
       "    'L-Malate': np.float64(53.9850969061374),\n",
       "    'Acetate': np.float64(0.9678964806899121),\n",
       "    ' R  Acetoin C4H8O2': 0.0,\n",
       "    'B. subtilis': np.float64(0.5495093192397552)},\n",
       "   'volume': 1}},\n",
       " {'shared_environment': {'counts': {'D-Glucose': np.float64(20.462116348357977),\n",
       "    'L-Malate': np.float64(53.44063033574497),\n",
       "    'Acetate': np.float64(1.4872192890789568),\n",
       "    ' R  Acetoin C4H8O2': 0,\n",
       "    'B. subtilis': np.float64(0.5760662072561573)},\n",
       "   'concentrations': {'D-Glucose': np.float64(20.462116348357977),\n",
       "    'L-Malate': np.float64(53.44063033574497),\n",
       "    'Acetate': np.float64(1.4872192890789568),\n",
       "    ' R  Acetoin C4H8O2': 0.0,\n",
       "    'B. subtilis': np.float64(0.5760662072561573)},\n",
       "   'volume': 1}},\n",
       " {'shared_environment': {'counts': {'D-Glucose': np.float64(19.89979079108398),\n",
       "    'L-Malate': np.float64(52.86990394565141),\n",
       "    'Acetate': np.float64(2.0316463165983594),\n",
       "    ' R  Acetoin C4H8O2': 0,\n",
       "    'B. subtilis': np.float64(0.6039010954071948)},\n",
       "   'concentrations': {'D-Glucose': np.float64(19.89979079108398),\n",
       "    'L-Malate': np.float64(52.86990394565141),\n",
       "    'Acetate': np.float64(2.0316463165983594),\n",
       "    ' R  Acetoin C4H8O2': 0.0,\n",
       "    'B. subtilis': np.float64(0.6039010954071948)},\n",
       "   'volume': 1}},\n",
       " {'shared_environment': {'counts': {'D-Glucose': np.float64(19.310691344909166),\n",
       "    'L-Malate': np.float64(52.27166054353913),\n",
       "    'Acetate': np.float64(2.6023866291926625),\n",
       "    ' R  Acetoin C4H8O2': 0,\n",
       "    'B. subtilis': np.float64(0.6330746292433367)},\n",
       "   'concentrations': {'D-Glucose': np.float64(19.310691344909166),\n",
       "    'L-Malate': np.float64(52.27166054353913),\n",
       "    'Acetate': np.float64(2.6023866291926625),\n",
       "    ' R  Acetoin C4H8O2': 0.0,\n",
       "    'B. subtilis': np.float64(0.6330746292433367)},\n",
       "   'volume': 1}},\n",
       " {'shared_environment': {'counts': {'D-Glucose': np.float64(18.693594821079248),\n",
       "    'L-Malate': np.float64(51.64458415864439),\n",
       "    'Acetate': np.float64(3.2007068529424565),\n",
       "    ' R  Acetoin C4H8O2': 0,\n",
       "    'B. subtilis': np.float64(0.6636501687395379)},\n",
       "   'concentrations': {'D-Glucose': np.float64(18.693594821079248),\n",
       "    'L-Malate': np.float64(51.64458415864439),\n",
       "    'Acetate': np.float64(3.2007068529424565),\n",
       "    ' R  Acetoin C4H8O2': 0.0,\n",
       "    'B. subtilis': np.float64(0.6636501687395379)},\n",
       "   'volume': 1}},\n",
       " {'shared_environment': {'counts': {'D-Glucose': np.float64(18.047232976255216),\n",
       "    'L-Malate': np.float64(50.98729754787974),\n",
       "    'Acetate': np.float64(3.827933794860294),\n",
       "    ' R  Acetoin C4H8O2': 0,\n",
       "    'B. subtilis': np.float64(0.6956938706659905)},\n",
       "   'concentrations': {'D-Glucose': np.float64(18.047232976255216),\n",
       "    'L-Malate': np.float64(50.98729754787974),\n",
       "    'Acetate': np.float64(3.827933794860294),\n",
       "    ' R  Acetoin C4H8O2': 0.0,\n",
       "    'B. subtilis': np.float64(0.6956938706659905)},\n",
       "   'volume': 1}},\n",
       " {'shared_environment': {'counts': {'D-Glucose': np.float64(17.370293759492498),\n",
       "    'L-Malate': np.float64(50.29835965299612),\n",
       "    'Acetate': np.float64(4.485457157045049),\n",
       "    ' R  Acetoin C4H8O2': 0,\n",
       "    'B. subtilis': np.float64(0.7292747612922208)},\n",
       "   'concentrations': {'D-Glucose': np.float64(17.370293759492498),\n",
       "    'L-Malate': np.float64(50.29835965299612),\n",
       "    'Acetate': np.float64(4.485457157045049),\n",
       "    ' R  Acetoin C4H8O2': 0.0,\n",
       "    'B. subtilis': np.float64(0.7292747612922208)},\n",
       "   'volume': 1}},\n",
       " {'shared_environment': {'counts': {'D-Glucose': np.float64(16.661423664489124),\n",
       "    'L-Malate': np.float64(49.57626302468175),\n",
       "    'Acetate': np.float64(5.174732340473177),\n",
       "    ' R  Acetoin C4H8O2': 0,\n",
       "    'B. subtilis': np.float64(0.7644647941944491)},\n",
       "   'concentrations': {'D-Glucose': np.float64(16.661423664489124),\n",
       "    'L-Malate': np.float64(49.57626302468175),\n",
       "    'Acetate': np.float64(5.174732340473177),\n",
       "    ' R  Acetoin C4H8O2': 0.0,\n",
       "    'B. subtilis': np.float64(0.7644647941944491)},\n",
       "   'volume': 1}},\n",
       " {'shared_environment': {'counts': {'D-Glucose': np.float64(15.91923163766934),\n",
       "    'L-Malate': np.float64(48.81943123610733),\n",
       "    'Acetate': np.float64(5.897283332090484),\n",
       "    ' R  Acetoin C4H8O2': 0,\n",
       "    'B. subtilis': np.float64(0.8013388856350796)},\n",
       "   'concentrations': {'D-Glucose': np.float64(15.91923163766934),\n",
       "    'L-Malate': np.float64(48.81943123610733),\n",
       "    'Acetate': np.float64(5.897283332090484),\n",
       "    ' R  Acetoin C4H8O2': 0.0,\n",
       "    'B. subtilis': np.float64(0.8013388856350796)},\n",
       "   'volume': 1}},\n",
       " {'shared_environment': {'counts': {'D-Glucose': np.float64(15.142295199825929),\n",
       "    'L-Malate': np.float64(48.026216317695216),\n",
       "    'Acetate': np.float64(6.654705665294577),\n",
       "    ' R  Acetoin C4H8O2': 0,\n",
       "    'B. subtilis': np.float64(0.8399749165014465)},\n",
       "   'concentrations': {'D-Glucose': np.float64(15.142295199825929),\n",
       "    'L-Malate': np.float64(48.026216317695216),\n",
       "    'Acetate': np.float64(6.654705665294577),\n",
       "    ' R  Acetoin C4H8O2': 0.0,\n",
       "    'B. subtilis': np.float64(0.8399749165014465)},\n",
       "   'volume': 1}},\n",
       " {'shared_environment': {'counts': {'D-Glucose': np.float64(14.329169761159129),\n",
       "    'L-Malate': np.float64(47.19489625809629),\n",
       "    'Acetate': np.float64(7.4486694390117565),\n",
       "    ' R  Acetoin C4H8O2': 0,\n",
       "    'B. subtilis': np.float64(0.8804536844011704)},\n",
       "   'concentrations': {'D-Glucose': np.float64(14.329169761159129),\n",
       "    'L-Malate': np.float64(47.19489625809629),\n",
       "    'Acetate': np.float64(7.4486694390117565),\n",
       "    ' R  Acetoin C4H8O2': 0.0,\n",
       "    'B. subtilis': np.float64(0.8804536844011704)},\n",
       "   'volume': 1}},\n",
       " {'shared_environment': {'counts': {'D-Glucose': np.float64(13.478402623563406),\n",
       "    'L-Malate': np.float64(46.323672635541115),\n",
       "    'Acetate': np.float64(8.280922373899866),\n",
       "    ' R  Acetoin C4H8O2': 0,\n",
       "    'B. subtilis': np.float64(0.9228587809509429)},\n",
       "   'concentrations': {'D-Glucose': np.float64(13.478402623563406),\n",
       "    'L-Malate': np.float64(46.323672635541115),\n",
       "    'Acetate': np.float64(8.280922373899866),\n",
       "    ' R  Acetoin C4H8O2': 0.0,\n",
       "    'B. subtilis': np.float64(0.9228587809509429)},\n",
       "   'volume': 1}},\n",
       " {'shared_environment': {'counts': {'D-Glucose': np.float64(12.588554008573604),\n",
       "    'L-Malate': np.float64(45.41066847223341),\n",
       "    'Acetate': np.float64(9.153292875156385),\n",
       "    ' R  Acetoin C4H8O2': 0,\n",
       "    'B. subtilis': np.float64(0.9672763552978484)},\n",
       "   'concentrations': {'D-Glucose': np.float64(12.588554008573604),\n",
       "    'L-Malate': np.float64(45.41066847223341),\n",
       "    'Acetate': np.float64(9.153292875156385),\n",
       "    ' R  Acetoin C4H8O2': 0.0,\n",
       "    'B. subtilis': np.float64(0.9672763552978484)},\n",
       "   'volume': 1}},\n",
       " {'shared_environment': {'counts': {'D-Glucose': np.float64(11.658228883895434),\n",
       "    'L-Malate': np.float64(44.45392644792535),\n",
       "    'Acetate': np.float64(10.067693059342481),\n",
       "    ' R  Acetoin C4H8O2': 0,\n",
       "    'B. subtilis': np.float64(1.0137947012536161)},\n",
       "   'concentrations': {'D-Glucose': np.float64(11.658228883895434),\n",
       "    'L-Malate': np.float64(44.45392644792535),\n",
       "    'Acetate': np.float64(10.067693059342481),\n",
       "    ' R  Acetoin C4H8O2': 0.0,\n",
       "    'B. subtilis': np.float64(1.0137947012536161)},\n",
       "   'volume': 1}},\n",
       " {'shared_environment': {'counts': {'D-Glucose': np.float64(10.68612589246793),\n",
       "    'L-Malate': np.float64(43.45140767717836),\n",
       "    'Acetate': np.float64(11.026121687226327),\n",
       "    ' R  Acetoin C4H8O2': 0,\n",
       "    'B. subtilis': np.float64(1.0625035638863478)},\n",
       "   'concentrations': {'D-Glucose': np.float64(10.68612589246793),\n",
       "    'L-Malate': np.float64(43.45140767717836),\n",
       "    'Acetate': np.float64(11.026121687226327),\n",
       "    ' R  Acetoin C4H8O2': 0.0,\n",
       "    'B. subtilis': np.float64(1.0625035638863478)},\n",
       "   'volume': 1}},\n",
       " {'shared_environment': {'counts': {'D-Glucose': np.float64(9.671114354601142),\n",
       "    'L-Malate': np.float64(42.40099136623839),\n",
       "    'Acetate': np.float64(12.030666927110305),\n",
       "    ' R  Acetoin C4H8O2': 0,\n",
       "    'B. subtilis': np.float64(1.11349298521302)},\n",
       "   'concentrations': {'D-Glucose': np.float64(9.671114354601142),\n",
       "    'L-Malate': np.float64(42.40099136623839),\n",
       "    'Acetate': np.float64(12.030666927110305),\n",
       "    ' R  Acetoin C4H8O2': 0.0,\n",
       "    'B. subtilis': np.float64(1.11349298521302)},\n",
       "   'volume': 1}},\n",
       " {'shared_environment': {'counts': {'D-Glucose': np.float64(8.612359372835567),\n",
       "    'L-Malate': np.float64(41.30047585485234),\n",
       "    'Acetate': np.float64(13.083508860060563),\n",
       "    ' R  Acetoin C4H8O2': 0,\n",
       "    'B. subtilis': np.float64(1.1668513614422102)},\n",
       "   'concentrations': {'D-Glucose': np.float64(8.612359372835567),\n",
       "    'L-Malate': np.float64(41.30047585485234),\n",
       "    'Acetate': np.float64(13.083508860060563),\n",
       "    ' R  Acetoin C4H8O2': 0.0,\n",
       "    'B. subtilis': np.float64(1.1668513614422102)},\n",
       "   'volume': 1}},\n",
       " {'shared_environment': {'counts': {'D-Glucose': np.float64(7.5095337655202545),\n",
       "    'L-Malate': np.float64(40.1475818866883),\n",
       "    'Acetate': np.float64(14.186921654508236),\n",
       "    ' R  Acetoin C4H8O2': 0,\n",
       "    'B. subtilis': np.float64(1.2226620819301224)},\n",
       "   'concentrations': {'D-Glucose': np.float64(7.5095337655202545),\n",
       "    'L-Malate': np.float64(40.1475818866883),\n",
       "    'Acetate': np.float64(14.186921654508236),\n",
       "    ' R  Acetoin C4H8O2': 0.0,\n",
       "    'B. subtilis': np.float64(1.2226620819301224)},\n",
       "   'volume': 1}}]"
      ]
     },
     "execution_count": 21,
     "metadata": {},
     "output_type": "execute_result"
    }
   ],
   "execution_count": 21
  },
  {
   "metadata": {},
   "cell_type": "code",
   "outputs": [],
   "execution_count": null,
   "source": "",
   "id": "3c7ae0d546b95498"
  }
 ],
 "metadata": {
  "kernelspec": {
   "display_name": "Python 3 (ipykernel)",
   "language": "python",
   "name": "python3"
  },
  "language_info": {
   "codemirror_mode": {
    "name": "ipython",
    "version": 3
   },
   "file_extension": ".py",
   "mimetype": "text/x-python",
   "name": "python",
   "nbconvert_exporter": "python",
   "pygments_lexer": "ipython3",
   "version": "3.13.2"
  }
 },
 "nbformat": 4,
 "nbformat_minor": 5
}
