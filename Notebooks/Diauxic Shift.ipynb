{
 "cells": [
  {
   "cell_type": "markdown",
   "id": "d78886e4-ba21-4c8b-b0e8-f2fdc4a3aa33",
   "metadata": {},
   "source": [
    "# *Bacillus subtilis* Diauxic Shift\n",
    "\n",
    "Here we will attempt to reproduce the results from [Rosenthal et al. 2018](https://elifesciences.org/articles/33099). \n",
    "\n",
    "The shared environment will contain 50 mM Malate and 22 mM Glucose. We will assume that the environment is 1L in volume - to avoid unit conversions. \n",
    "\n",
    "Initial biomass is set to 0.5."
   ]
  },
  {
   "cell_type": "code",
   "id": "fe256aa9-4c98-4608-b45c-269566b08003",
   "metadata": {
    "ExecuteTime": {
     "end_time": "2025-03-03T19:49:53.295381Z",
     "start_time": "2025-03-03T19:49:52.233899Z"
    }
   },
   "source": [
    "from copy import deepcopy\n",
    "\n",
    "from process_bigraph import Composite\n",
    "from process_bigraph.composite import ProcessTypes\n",
    "\n",
    "from cdFBA import register_types\n",
    "from cdFBA.processes.dfba import DFBA, UpdateEnvironment, StaticConcentration, Injector, WaveFunction\n",
    "\n",
    "from cdFBA.utils import make_cdfba_composite, get_injector_spec, get_wave_spec, get_static_spec, model_from_file\n",
    "from cdFBA.utils import get_exchanges, get_substrates, get_reaction_map\n",
    "\n",
    "from matplotlib import pyplot as plt\n",
    "from pprint import pprint\n",
    "\n",
    "import cProfile\n",
    "import pstats\n",
    "import io"
   ],
   "outputs": [
    {
     "name": "stderr",
     "output_type": "stream",
     "text": [
      "<unknown>:1: SyntaxWarning: invalid escape sequence '\\s'\n"
     ]
    }
   ],
   "execution_count": 3
  },
  {
   "cell_type": "code",
   "id": "b6452ff1-a29f-4602-912f-b5e572038903",
   "metadata": {
    "ExecuteTime": {
     "end_time": "2025-03-03T19:49:53.338414Z",
     "start_time": "2025-03-03T19:49:53.336923Z"
    }
   },
   "source": "model_file = 'Bacillus_subtilis_str_168.xml'",
   "outputs": [],
   "execution_count": 4
  },
  {
   "cell_type": "code",
   "id": "b6c5764d-b704-4dd3-8f56-138cfe1abc6f",
   "metadata": {
    "scrolled": true
   },
   "source": [
    "model_dict = {'B. subtilis': model_file}\n",
    "exchanges = ['EX_ac(e)','EX_actn_R(e)', 'EX_glc_D(e)']\n",
    "#'EX_mal_L(e)', 'EX_glc_D(e)'\n",
    "volume = 1\n",
    "spec = make_cdfba_composite(model_dict, medium_type=None, exchanges=exchanges, volume=volume, interval=0.5)"
   ],
   "outputs": [],
   "execution_count": null
  },
  {
   "cell_type": "code",
   "id": "6edab3ed-caa2-4fa1-9b0b-b8cf990a5ac3",
   "metadata": {
    "scrolled": true
   },
   "source": [
    "#Set reaction bounds\n",
    "spec['B. subtilis']['config']['bounds'] = {\n",
    "            'EX_o2(e)': {'lower': -2, 'upper': None},\n",
    "            'DM_atp_c_': {'lower': 1, 'upper': 1}\n",
    "        }\n",
    "#Set initial concentrations\n",
    "spec['shared environment']['concentrations']['Acetate'] = 0\n",
    "spec['shared environment']['concentrations']['D-Glucose'] = 2.2\n",
    "# spec['shared environment']['concentrations']['L-malate'] = 5.5\n",
    "spec['shared environment']['concentrations']['R Acetoin'] = 0\n",
    "spec['shared environment']['counts']['Acetate'] = 0/volume\n",
    "spec['shared environment']['counts']['D-Glucose'] = 2.2/volume\n",
    "# spec['shared environment']['counts']['L-malate'] = 5.5/volume\n",
    "spec['shared environment']['counts']['R Acetoin'] = 0/volume"
   ],
   "outputs": [],
   "execution_count": null
  },
  {
   "cell_type": "code",
   "id": "f6c56efd-0729-4c34-862e-ad70da3f0e60",
   "metadata": {},
   "source": [
    "#set emitter specs\n",
    "spec['emitter'] = {\n",
    "        \"_type\": \"step\",\n",
    "        \"address\": \"local:ram-emitter\",\n",
    "        \"config\": {\n",
    "            \"emit\": {\n",
    "                \"shared_environment\": \"any\",\n",
    "                \"global_time\": \"any\",\n",
    "            }\n",
    "        },\n",
    "        \"inputs\": {\n",
    "            \"shared_environment\": [\"shared environment\"],\n",
    "            \"global_time\": [\"global_time\"]\n",
    "        }\n",
    "    }"
   ],
   "outputs": [],
   "execution_count": null
  },
  {
   "cell_type": "code",
   "id": "eeeaaf0f-3c63-4b9d-945f-fdfb0b7293f8",
   "metadata": {},
   "source": [
    "#create the core object\n",
    "core = ProcessTypes()\n",
    "#register data types\n",
    "core = register_types(core)\n",
    "#register all processes and steps\n",
    "core.register_process('DFBA', DFBA)\n",
    "core.register_process('UpdateEnvironment', UpdateEnvironment)\n",
    "core.register_process('StaticConcentration', StaticConcentration)\n",
    "core.register_process('WaveFunction', WaveFunction)\n",
    "core.register_process('Injector', Injector)"
   ],
   "outputs": [],
   "execution_count": null
  },
  {
   "cell_type": "code",
   "id": "1dea7ac5-2697-422d-befa-edab44edc49e",
   "metadata": {},
   "source": [
    "#create simulation composite\n",
    "sim = Composite({\n",
    "        \"state\": spec,\n",
    "        },\n",
    "        core=core\n",
    "    )"
   ],
   "outputs": [],
   "execution_count": null
  },
  {
   "cell_type": "code",
   "id": "12ac9229-4cb2-4c84-bd7c-6a7ba00dc46f",
   "metadata": {},
   "source": [
    "sim.run(10)"
   ],
   "outputs": [],
   "execution_count": null
  },
  {
   "cell_type": "code",
   "id": "7f3c40ef-2cf6-45d3-8acb-1816c3ef94e0",
   "metadata": {},
   "source": [
    "results = sim.gather_results()[('emitter',)]"
   ],
   "outputs": [],
   "execution_count": null
  },
  {
   "cell_type": "code",
   "id": "4082f3c6-6489-4179-ae0a-6347e1c48518",
   "metadata": {},
   "source": [
    "#extract time-series data\n",
    "timepoints = []\n",
    "for timepoint in results:\n",
    "    time = timepoint.pop('global_time')\n",
    "    timepoints.append(time)\n",
    "env = [timepoint['shared_environment']['concentrations'] for timepoint in results]\n",
    "env_combined = {}\n",
    "for d in env:\n",
    "    for key, value in d.items():\n",
    "        if key not in env_combined:\n",
    "            env_combined[key] = []\n",
    "        env_combined[key].append(value)"
   ],
   "outputs": [],
   "execution_count": null
  },
  {
   "cell_type": "code",
   "id": "41906460-ffbe-4444-8367-1cfc9338213a",
   "metadata": {},
   "source": [
    "#plot results for biomass\n",
    "fig, ax = plt.subplots(dpi=100)\n",
    "for key, value in env_combined.items():\n",
    "    if key not in []:\n",
    "        ax.plot(timepoints, env_combined[key], label=key)\n",
    "plt.xlabel('Time')\n",
    "plt.ylabel('Substrate Concentration')\n",
    "plt.legend()\n",
    "plt.tight_layout()\n",
    "plt.show()\n",
    "#'B. subtilis', 'Acetate', 'R Acetoin'"
   ],
   "outputs": [],
   "execution_count": null
  },
  {
   "cell_type": "code",
   "id": "356545be-4381-41db-887f-56c3a04de542",
   "metadata": {
    "scrolled": true
   },
   "source": [
    "results"
   ],
   "outputs": [],
   "execution_count": null
  },
  {
   "cell_type": "code",
   "id": "ceb7f60b-4bec-4089-930b-db3c84a33173",
   "metadata": {
    "ExecuteTime": {
     "end_time": "2025-03-03T19:50:21.129898Z",
     "start_time": "2025-03-03T19:50:20.259768Z"
    }
   },
   "source": "model = model_from_file(model_file)",
   "outputs": [],
   "execution_count": 5
  },
  {
   "metadata": {
    "ExecuteTime": {
     "end_time": "2025-03-03T19:50:21.957243Z",
     "start_time": "2025-03-03T19:50:21.777380Z"
    }
   },
   "cell_type": "code",
   "source": "results = model.optimize()",
   "id": "e45905846377ce6e",
   "outputs": [],
   "execution_count": 6
  },
  {
   "metadata": {
    "ExecuteTime": {
     "end_time": "2025-03-03T19:52:38.801024Z",
     "start_time": "2025-03-03T19:52:38.798741Z"
    }
   },
   "cell_type": "code",
   "source": "results.fluxes['biomass166']",
   "id": "337bd130363ce603",
   "outputs": [
    {
     "data": {
      "text/plain": [
       "np.float64(112.66608490628785)"
      ]
     },
     "execution_count": 10,
     "metadata": {},
     "output_type": "execute_result"
    }
   ],
   "execution_count": 10
  },
  {
   "metadata": {
    "ExecuteTime": {
     "end_time": "2025-03-03T19:52:11.702556Z",
     "start_time": "2025-03-03T19:52:11.700429Z"
    }
   },
   "cell_type": "code",
   "source": "from cdFBA.utils import get_objective_reaction",
   "id": "10b629cc88a7c8fc",
   "outputs": [],
   "execution_count": 8
  },
  {
   "metadata": {
    "ExecuteTime": {
     "end_time": "2025-03-03T19:52:28.615470Z",
     "start_time": "2025-03-03T19:52:27.743213Z"
    }
   },
   "cell_type": "code",
   "source": "get_objective_reaction(model_file=model_file)",
   "id": "2363d7c6f91e3d0f",
   "outputs": [
    {
     "data": {
      "text/plain": [
       "'biomass166'"
      ]
     },
     "execution_count": 9,
     "metadata": {},
     "output_type": "execute_result"
    }
   ],
   "execution_count": 9
  },
  {
   "metadata": {
    "ExecuteTime": {
     "end_time": "2025-03-03T20:12:37.824973Z",
     "start_time": "2025-03-03T20:12:36.980177Z"
    }
   },
   "cell_type": "code",
   "source": "model = model_from_file(model_file)",
   "id": "3b112f15c526573f",
   "outputs": [],
   "execution_count": 19
  },
  {
   "metadata": {
    "ExecuteTime": {
     "end_time": "2025-03-03T20:12:40.245967Z",
     "start_time": "2025-03-03T20:12:40.242975Z"
    }
   },
   "cell_type": "code",
   "source": "getattr(model.reactions, 'EX_mal_L(e)').bounds",
   "id": "9a1d2a6c02e49cc4",
   "outputs": [
    {
     "data": {
      "text/plain": [
       "(-1000.0, 1000.0)"
      ]
     },
     "execution_count": 20,
     "metadata": {},
     "output_type": "execute_result"
    }
   ],
   "execution_count": 20
  },
  {
   "metadata": {
    "ExecuteTime": {
     "end_time": "2025-03-03T20:13:16.147098Z",
     "start_time": "2025-03-03T20:13:15.972144Z"
    }
   },
   "cell_type": "code",
   "source": "fluxes = model.optimize().fluxes",
   "id": "47b86345685e30b4",
   "outputs": [],
   "execution_count": 21
  },
  {
   "metadata": {
    "ExecuteTime": {
     "end_time": "2025-03-03T20:24:14.884905Z",
     "start_time": "2025-03-03T20:24:14.879613Z"
    }
   },
   "cell_type": "code",
   "source": "intake_fluxes = fluxes[fluxes < 0]",
   "id": "ac5d9a6890cc0b46",
   "outputs": [],
   "execution_count": 29
  },
  {
   "metadata": {
    "ExecuteTime": {
     "end_time": "2025-03-03T20:30:30.239511Z",
     "start_time": "2025-03-03T20:30:30.236934Z"
    }
   },
   "cell_type": "code",
   "source": "intake_reactions = [getattr(model.reactions, i).name for i in list(intake_fluxes.index)]",
   "id": "46031fbd814e84b6",
   "outputs": [],
   "execution_count": 37
  },
  {
   "metadata": {
    "ExecuteTime": {
     "end_time": "2025-03-03T20:25:27.910584Z",
     "start_time": "2025-03-03T20:25:27.908477Z"
    }
   },
   "cell_type": "code",
   "source": "len(intake_fluxes)",
   "id": "894b1086e6a6a49a",
   "outputs": [
    {
     "data": {
      "text/plain": [
       "165"
      ]
     },
     "execution_count": 32,
     "metadata": {},
     "output_type": "execute_result"
    }
   ],
   "execution_count": 32
  },
  {
   "metadata": {
    "ExecuteTime": {
     "end_time": "2025-03-03T20:26:38.143125Z",
     "start_time": "2025-03-03T20:26:38.135383Z"
    }
   },
   "cell_type": "code",
   "source": "exchanges = [reaction.name for reaction in model.exchanges]",
   "id": "90c4b77188c3ee12",
   "outputs": [],
   "execution_count": 34
  },
  {
   "metadata": {
    "ExecuteTime": {
     "end_time": "2025-03-03T20:33:21.691532Z",
     "start_time": "2025-03-03T20:33:21.688171Z"
    }
   },
   "cell_type": "code",
   "source": "sorted([reaction for reaction in intake_reactions if reaction in exchanges])",
   "id": "44fd00678fbb8b32",
   "outputs": [
    {
     "data": {
      "text/plain": [
       "['(R)-Pantothenate exchange',\n",
       " '2-Oxobutanoate exchange',\n",
       " '4 Aminobenzoate exchange',\n",
       " '4-Aminobutanoate exchange',\n",
       " '4-Hydroxybenzoate exchange',\n",
       " 'Adenosylcobalamin exchange',\n",
       " 'Balsalazide exchange',\n",
       " 'Calcium exchange',\n",
       " 'Chenodeoxyglycocholate exchange',\n",
       " 'Citrate exchange',\n",
       " 'Co2+ exchange',\n",
       " 'Cu2+ exchange',\n",
       " 'Cys-Gly exchange',\n",
       " 'Exchange of 3-methyl-2-oxopentanoate',\n",
       " 'Exchange of Glycerophosphoric Acid',\n",
       " 'Fe3+ exchange',\n",
       " 'Glycocholate exchange',\n",
       " 'Glycyl-L-asparagine exchange',\n",
       " 'Glycyl-L-tyrosine exchange',\n",
       " 'Glycylleucine exchange',\n",
       " 'H2O exchange',\n",
       " 'Hydrogen sulfide exchange',\n",
       " 'K+ exchange',\n",
       " 'L-Arginine exchange',\n",
       " 'L-Aspartate exchange',\n",
       " 'L-Lysine exchange',\n",
       " 'L-Proline exchange',\n",
       " 'L-Tryptophan exchange',\n",
       " 'L-Valine exchange',\n",
       " 'L-alanyl-L-threonine exchange',\n",
       " 'L-methionyl-L-alanine exchange',\n",
       " 'Lactulose exchange',\n",
       " 'Maltohexaose exchange',\n",
       " 'Menaquinone 8 exchange',\n",
       " 'Mg exchange',\n",
       " 'Mn2+ exchange',\n",
       " 'N-Acetylisoniazid exchange',\n",
       " 'Nicotinate exchange',\n",
       " 'Olsalazine exchange',\n",
       " 'Ornithine exchange',\n",
       " 'Prontosil exchange',\n",
       " 'R Acetoin exchange',\n",
       " 'R406 exchange',\n",
       " 'Salicin exchange',\n",
       " 'Sulfapyridine exchange',\n",
       " 'Sulfate exchange',\n",
       " 'Thymidine exchange',\n",
       " 'Zinc exchange',\n",
       " 'echange reaction for octadecanoate (n-C18:0)',\n",
       " 'exchange reaction for Chloride',\n",
       " 'exchange reaction for Cytidine',\n",
       " 'exchange reaction for Deoxycytidine',\n",
       " 'exchange reaction for Deoxyinosine',\n",
       " 'exchange reaction for L-alanine',\n",
       " 'exchange reaction for L-histidine',\n",
       " 'exchange reaction for Pyridoxal',\n",
       " 'exchange reaction for Riboflavin',\n",
       " 'exchange reaction for Sodium',\n",
       " 'exchange reaction for Thiamin',\n",
       " 'exchange reaction for Uridine',\n",
       " 'exchange reaction for fumarate',\n",
       " 'exchange reaction for glycylphenylalaine',\n",
       " 'exchange reaction for heme',\n",
       " 'exchange reaction for oxugen',\n",
       " 'exchange reaction for proton',\n",
       " 'meso-2,6-Diaminoheptanedioate exchange']"
      ]
     },
     "execution_count": 40,
     "metadata": {},
     "output_type": "execute_result"
    }
   ],
   "execution_count": 40
  },
  {
   "metadata": {},
   "cell_type": "code",
   "outputs": [],
   "execution_count": null,
   "source": "",
   "id": "df93778a9a915cf2"
  }
 ],
 "metadata": {
  "kernelspec": {
   "display_name": "Python 3 (ipykernel)",
   "language": "python",
   "name": "python3"
  },
  "language_info": {
   "codemirror_mode": {
    "name": "ipython",
    "version": 3
   },
   "file_extension": ".py",
   "mimetype": "text/x-python",
   "name": "python",
   "nbconvert_exporter": "python",
   "pygments_lexer": "ipython3",
   "version": "3.13.2"
  }
 },
 "nbformat": 4,
 "nbformat_minor": 5
}
