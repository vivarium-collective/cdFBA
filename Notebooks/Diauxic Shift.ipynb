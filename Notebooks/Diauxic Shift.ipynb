{
 "cells": [
  {
   "cell_type": "markdown",
   "id": "d78886e4-ba21-4c8b-b0e8-f2fdc4a3aa33",
   "metadata": {},
   "source": [
    "# *Bacillus subtilis* Diauxic Shift\n",
    "\n",
    "Here we will attempt to reproduce the results from [Rosenthal et al. 2018](https://elifesciences.org/articles/33099). \n",
    "\n",
    "The shared environment will contain 50 mM Malate and 22 mM Glucose. We will assume that the environment is 1L in volume - to avoid unit conversions. \n",
    "\n",
    "Initial biomass is set to 0.5."
   ]
  },
  {
   "cell_type": "code",
   "id": "fe256aa9-4c98-4608-b45c-269566b08003",
   "metadata": {
    "ExecuteTime": {
     "end_time": "2025-03-03T19:10:05.670104Z",
     "start_time": "2025-03-03T19:10:04.458682Z"
    }
   },
   "source": [
    "from copy import deepcopy\n",
    "\n",
    "from process_bigraph import Composite\n",
    "from process_bigraph.composite import ProcessTypes\n",
    "\n",
    "from cdFBA import register_types\n",
    "from cdFBA.processes.dfba import DFBA, UpdateEnvironment, Chemostat, Injector, WaveFunction\n",
    "\n",
    "from cdFBA.utils import make_cdfba_composite, get_injector_spec, get_wave_spec, get_chemo_spec, model_from_file\n",
    "from cdFBA.utils import get_exchanges, get_substrates, get_reaction_map\n",
    "\n",
    "from matplotlib import pyplot as plt\n",
    "from pprint import pprint\n",
    "\n",
    "import cProfile\n",
    "import pstats\n",
    "import io"
   ],
   "outputs": [
    {
     "name": "stderr",
     "output_type": "stream",
     "text": [
      "<unknown>:1: SyntaxWarning: invalid escape sequence '\\s'\n"
     ]
    }
   ],
   "execution_count": 1
  },
  {
   "cell_type": "code",
   "id": "b6452ff1-a29f-4602-912f-b5e572038903",
   "metadata": {
    "ExecuteTime": {
     "end_time": "2025-03-03T19:10:06.017094Z",
     "start_time": "2025-03-03T19:10:06.014844Z"
    }
   },
   "source": "model_file = 'Bacillus_subtilis_str_168.xml'",
   "outputs": [],
   "execution_count": 2
  },
  {
   "cell_type": "code",
   "execution_count": 3,
   "id": "b6c5764d-b704-4dd3-8f56-138cfe1abc6f",
   "metadata": {
    "scrolled": true
   },
   "outputs": [],
   "source": [
    "model_dict = {'B. subtilis': model_file}\n",
    "exchanges = ['EX_ac(e)','EX_actn_R(e)', 'EX_glc_D(e)']\n",
    "#'EX_mal_L(e)', 'EX_glc_D(e)'\n",
    "volume = 1\n",
    "spec = make_cdfba_composite(model_dict, medium_type=None, exchanges=exchanges, volume=volume, interval=0.5)"
   ]
  },
  {
   "cell_type": "code",
   "execution_count": 4,
   "id": "6edab3ed-caa2-4fa1-9b0b-b8cf990a5ac3",
   "metadata": {
    "scrolled": true
   },
   "outputs": [],
   "source": [
    "#Set reaction bounds\n",
    "spec['B. subtilis']['config']['bounds'] = {\n",
    "            'EX_o2(e)': {'lower': -2, 'upper': None},\n",
    "            'DM_atp_c_': {'lower': 1, 'upper': 1}\n",
    "        }\n",
    "#Set initial concentrations\n",
    "spec['shared environment']['concentrations']['Acetate'] = 0\n",
    "spec['shared environment']['concentrations']['D-Glucose'] = 2.2\n",
    "# spec['shared environment']['concentrations']['L-malate'] = 5.5\n",
    "spec['shared environment']['concentrations']['R Acetoin'] = 0\n",
    "spec['shared environment']['counts']['Acetate'] = 0/volume\n",
    "spec['shared environment']['counts']['D-Glucose'] = 2.2/volume\n",
    "# spec['shared environment']['counts']['L-malate'] = 5.5/volume\n",
    "spec['shared environment']['counts']['R Acetoin'] = 0/volume"
   ]
  },
  {
   "cell_type": "code",
   "execution_count": 5,
   "id": "f6c56efd-0729-4c34-862e-ad70da3f0e60",
   "metadata": {},
   "outputs": [],
   "source": [
    "#set emitter specs\n",
    "spec['emitter'] = {\n",
    "        \"_type\": \"step\",\n",
    "        \"address\": \"local:ram-emitter\",\n",
    "        \"config\": {\n",
    "            \"emit\": {\n",
    "                \"shared_environment\": \"any\",\n",
    "                \"global_time\": \"any\",\n",
    "            }\n",
    "        },\n",
    "        \"inputs\": {\n",
    "            \"shared_environment\": [\"shared environment\"],\n",
    "            \"global_time\": [\"global_time\"]\n",
    "        }\n",
    "    }"
   ]
  },
  {
   "cell_type": "code",
   "execution_count": 6,
   "id": "eeeaaf0f-3c63-4b9d-945f-fdfb0b7293f8",
   "metadata": {},
   "outputs": [],
   "source": [
    "#create the core object\n",
    "core = ProcessTypes()\n",
    "#register data types\n",
    "core = register_types(core)\n",
    "#register all processes and steps\n",
    "core.register_process('DFBA', DFBA)\n",
    "core.register_process('UpdateEnvironment', UpdateEnvironment)\n",
    "core.register_process('Chemostat', Chemostat)\n",
    "core.register_process('WaveFunction', WaveFunction)\n",
    "core.register_process('Injector', Injector)"
   ]
  },
  {
   "cell_type": "code",
   "execution_count": 7,
   "id": "1dea7ac5-2697-422d-befa-edab44edc49e",
   "metadata": {},
   "outputs": [],
   "source": [
    "#create simulation composite\n",
    "sim = Composite({\n",
    "        \"state\": spec,\n",
    "        },\n",
    "        core=core\n",
    "    )"
   ]
  },
  {
   "cell_type": "code",
   "execution_count": 8,
   "id": "12ac9229-4cb2-4c84-bd7c-6a7ba00dc46f",
   "metadata": {},
   "outputs": [],
   "source": [
    "sim.run(10)"
   ]
  },
  {
   "cell_type": "code",
   "execution_count": 9,
   "id": "7f3c40ef-2cf6-45d3-8acb-1816c3ef94e0",
   "metadata": {},
   "outputs": [],
   "source": [
    "results = sim.gather_results()[('emitter',)]"
   ]
  },
  {
   "cell_type": "code",
   "execution_count": 10,
   "id": "4082f3c6-6489-4179-ae0a-6347e1c48518",
   "metadata": {},
   "outputs": [],
   "source": [
    "#extract time-series data\n",
    "timepoints = []\n",
    "for timepoint in results:\n",
    "    time = timepoint.pop('global_time')\n",
    "    timepoints.append(time)\n",
    "env = [timepoint['shared_environment']['concentrations'] for timepoint in results]\n",
    "env_combined = {}\n",
    "for d in env:\n",
    "    for key, value in d.items():\n",
    "        if key not in env_combined:\n",
    "            env_combined[key] = []\n",
    "        env_combined[key].append(value)"
   ]
  },
  {
   "cell_type": "code",
   "execution_count": 11,
   "id": "41906460-ffbe-4444-8367-1cfc9338213a",
   "metadata": {},
   "outputs": [
    {
     "data": {
      "image/png": "[encoded data removed]",
      "text/plain": [
       "<Figure size 640x480 with 1 Axes>"
      ]
     },
     "metadata": {},
     "output_type": "display_data"
    }
   ],
   "source": [
    "#plot results for biomass\n",
    "fig, ax = plt.subplots(dpi=100)\n",
    "for key, value in env_combined.items():\n",
    "    if key not in []:\n",
    "        ax.plot(timepoints, env_combined[key], label=key)\n",
    "plt.xlabel('Time')\n",
    "plt.ylabel('Substrate Concentration')\n",
    "plt.legend()\n",
    "plt.tight_layout()\n",
    "plt.show()\n",
    "#'B. subtilis', 'Acetate', 'R Acetoin'"
   ]
  },
  {
   "cell_type": "code",
   "execution_count": 12,
   "id": "356545be-4381-41db-887f-56c3a04de542",
   "metadata": {
    "scrolled": true
   },
   "outputs": [
    {
     "data": {
      "text/plain": [
       "[{'shared_environment': {'concentrations': {'Acetate': 0,\n",
       "    'R Acetoin': 0,\n",
       "    'D-Glucose': 2.2,\n",
       "    'B. subtilis': 0.5},\n",
       "   'counts': {'Acetate': 0.0,\n",
       "    'R Acetoin': 0.0,\n",
       "    'D-Glucose': 2.2,\n",
       "    'B. subtilis': 0.5},\n",
       "   'volume': 1}},\n",
       " {'shared_environment': {'counts': {'Acetate': 0.0,\n",
       "    'R Acetoin': 0.0,\n",
       "    'D-Glucose': 2.2,\n",
       "    'B. subtilis': 0.5},\n",
       "   'concentrations': {'Acetate': 0.0,\n",
       "    'R Acetoin': 0.0,\n",
       "    'D-Glucose': 2.2,\n",
       "    'B. subtilis': 0.5},\n",
       "   'volume': 1}},\n",
       " {'shared_environment': {'counts': {'Acetate': np.float64(250.0),\n",
       "    'R Acetoin': 0.0,\n",
       "    'D-Glucose': np.float64(2.2),\n",
       "    'B. subtilis': np.float64(25.116202899653906)},\n",
       "   'concentrations': {'Acetate': np.float64(250.0),\n",
       "    'R Acetoin': 0.0,\n",
       "    'D-Glucose': np.float64(2.2),\n",
       "    'B. subtilis': np.float64(25.116202899653906)},\n",
       "   'volume': 1}},\n",
       " {'shared_environment': {'counts': {'Acetate': np.float64(12808.101449826952),\n",
       "    'R Acetoin': 0.0,\n",
       "    'D-Glucose': np.float64(2.2),\n",
       "    'B. subtilis': np.float64(1261.6472961931647)},\n",
       "   'concentrations': {'Acetate': np.float64(12808.101449826952),\n",
       "    'R Acetoin': 0.0,\n",
       "    'D-Glucose': np.float64(2.2),\n",
       "    'B. subtilis': np.float64(1261.6472961931647)},\n",
       "   'volume': 1}},\n",
       " {'shared_environment': {'counts': {'Acetate': np.float64(643631.7495464094),\n",
       "    'R Acetoin': 0.0,\n",
       "    'D-Glucose': np.float64(2.2),\n",
       "    'B. subtilis': np.float64(63375.57895797446)},\n",
       "   'concentrations': {'Acetate': np.float64(643631.7495464094),\n",
       "    'R Acetoin': 0.0,\n",
       "    'D-Glucose': np.float64(2.2),\n",
       "    'B. subtilis': np.float64(63375.57895797446)},\n",
       "   'volume': 1}},\n",
       " {'shared_environment': {'counts': {'Acetate': np.float64(32331421.228533637),\n",
       "    'R Acetoin': 0.0,\n",
       "    'D-Glucose': np.float64(2.2),\n",
       "    'B. subtilis': np.float64(3183507.799983042)},\n",
       "   'concentrations': {'Acetate': np.float64(32331421.228533637),\n",
       "    'R Acetoin': 0.0,\n",
       "    'D-Glucose': np.float64(2.2),\n",
       "    'B. subtilis': np.float64(3183507.799983042)},\n",
       "   'volume': 1}},\n",
       " {'shared_environment': {'counts': {'Acetate': np.float64(1624085321.2200546),\n",
       "    'R Acetoin': 0.0,\n",
       "    'D-Glucose': np.float64(2.2),\n",
       "    'B. subtilis': np.float64(159915255.6740096)},\n",
       "   'concentrations': {'Acetate': np.float64(1624085321.2200546),\n",
       "    'R Acetoin': 0.0,\n",
       "    'D-Glucose': np.float64(2.2),\n",
       "    'B. subtilis': np.float64(159915255.6740096)},\n",
       "   'volume': 1}},\n",
       " {'shared_environment': {'counts': {'Acetate': np.float64(81581713158.22485),\n",
       "    'R Acetoin': 0.0,\n",
       "    'D-Glucose': np.float64(2.2),\n",
       "    'B. subtilis': np.float64(8032928016.516899)},\n",
       "   'concentrations': {'Acetate': np.float64(81581713158.22485),\n",
       "    'R Acetoin': 0.0,\n",
       "    'D-Glucose': np.float64(2.2),\n",
       "    'B. subtilis': np.float64(8032928016.516899)},\n",
       "   'volume': 1}},\n",
       " {'shared_environment': {'counts': {'Acetate': np.float64(4098045721416.675),\n",
       "    'R Acetoin': 0.0,\n",
       "    'D-Glucose': np.float64(2.2),\n",
       "    'B. subtilis': np.float64(403513299882.3051)},\n",
       "   'concentrations': {'Acetate': np.float64(4098045721416.675),\n",
       "    'R Acetoin': 0.0,\n",
       "    'D-Glucose': np.float64(2.2),\n",
       "    'B. subtilis': np.float64(403513299882.3051)},\n",
       "   'volume': 1}},\n",
       " {'shared_environment': {'counts': {'Acetate': np.float64(205854695662569.25),\n",
       "    'R Acetoin': 0.0,\n",
       "    'D-Glucose': np.float64(2.2),\n",
       "    'B. subtilis': np.float64(20269443825105.707)},\n",
       "   'concentrations': {'Acetate': np.float64(205854695662569.25),\n",
       "    'R Acetoin': 0.0,\n",
       "    'D-Glucose': np.float64(2.2),\n",
       "    'B. subtilis': np.float64(20269443825105.707)},\n",
       "   'volume': 1}},\n",
       " {'shared_environment': {'counts': {'Acetate': np.float64(1.0340576608215424e+16),\n",
       "    'R Acetoin': 0.0,\n",
       "    'D-Glucose': np.float64(2.2),\n",
       "    'B. subtilis': np.float64(1018182927548982.5)},\n",
       "   'concentrations': {'Acetate': np.float64(1.0340576608215424e+16),\n",
       "    'R Acetoin': 0.0,\n",
       "    'D-Glucose': np.float64(2.2),\n",
       "    'B. subtilis': np.float64(1018182927548982.5)},\n",
       "   'volume': 1}},\n",
       " {'shared_environment': {'counts': {'Acetate': np.float64(5.194320403827067e+17),\n",
       "    'R Acetoin': 0.0,\n",
       "    'D-Glucose': np.float64(2.2),\n",
       "    'B. subtilis': np.float64(5.114577799456765e+16)},\n",
       "   'concentrations': {'Acetate': np.float64(5.194320403827067e+17),\n",
       "    'R Acetoin': 0.0,\n",
       "    'D-Glucose': np.float64(2.2),\n",
       "    'B. subtilis': np.float64(5.114577799456765e+16)},\n",
       "   'volume': 1}},\n",
       " {'shared_environment': {'counts': {'Acetate': np.float64(2.609232103766653e+19),\n",
       "    'R Acetoin': 0.0,\n",
       "    'D-Glucose': np.float64(2.2),\n",
       "    'B. subtilis': np.float64(2.569175475144426e+18)},\n",
       "   'concentrations': {'Acetate': np.float64(2.609232103766653e+19),\n",
       "    'R Acetoin': 0.0,\n",
       "    'D-Glucose': np.float64(2.2),\n",
       "    'B. subtilis': np.float64(2.569175475144426e+18)},\n",
       "   'volume': 1}},\n",
       " {'shared_environment': {'counts': {'Acetate': np.float64(1.3106800586098795e+21),\n",
       "    'R Acetoin': 0.0,\n",
       "    'D-Glucose': np.float64(2.2),\n",
       "    'B. subtilis': np.float64(1.2905586503708408e+20)},\n",
       "   'concentrations': {'Acetate': np.float64(1.3106800586098795e+21),\n",
       "    'R Acetoin': 0.0,\n",
       "    'D-Glucose': np.float64(2.2),\n",
       "    'B. subtilis': np.float64(1.2905586503708408e+20)},\n",
       "   'volume': 1}},\n",
       " {'shared_environment': {'counts': {'Acetate': np.float64(6.583861257715192e+22),\n",
       "    'R Acetoin': 0.0,\n",
       "    'D-Glucose': np.float64(2.2),\n",
       "    'B. subtilis': np.float64(6.482786583323499e+21)},\n",
       "   'concentrations': {'Acetate': np.float64(6.583861257715192e+22),\n",
       "    'R Acetoin': 0.0,\n",
       "    'D-Glucose': np.float64(2.2),\n",
       "    'B. subtilis': np.float64(6.482786583323499e+21)},\n",
       "   'volume': 1}},\n",
       " {'shared_environment': {'counts': {'Acetate': np.float64(3.307231904238901e+24),\n",
       "    'R Acetoin': 0.0,\n",
       "    'D-Glucose': np.float64(2.2),\n",
       "    'B. subtilis': np.float64(3.256459663638137e+23)},\n",
       "   'concentrations': {'Acetate': np.float64(3.307231904238901e+24),\n",
       "    'R Acetoin': 0.0,\n",
       "    'D-Glucose': np.float64(2.2),\n",
       "    'B. subtilis': np.float64(3.256459663638137e+23)},\n",
       "   'volume': 1}},\n",
       " {'shared_environment': {'counts': {'Acetate': np.float64(1.6613021508614576e+26),\n",
       "    'R Acetoin': 0.0,\n",
       "    'D-Glucose': np.float64(2.2),\n",
       "    'B. subtilis': np.float64(1.6357980329294808e+25)},\n",
       "   'concentrations': {'Acetate': np.float64(1.6613021508614576e+26),\n",
       "    'R Acetoin': 0.0,\n",
       "    'D-Glucose': np.float64(2.2),\n",
       "    'B. subtilis': np.float64(1.6357980329294808e+25)},\n",
       "   'volume': 1}},\n",
       " {'shared_environment': {'counts': {'Acetate': np.float64(8.34512037973355e+27),\n",
       "    'R Acetoin': 0.0,\n",
       "    'D-Glucose': np.float64(2.2),\n",
       "    'B. subtilis': np.float64(8.217007059582304e+26)},\n",
       "   'concentrations': {'Acetate': np.float64(8.34512037973355e+27),\n",
       "    'R Acetoin': 0.0,\n",
       "    'D-Glucose': np.float64(2.2),\n",
       "    'B. subtilis': np.float64(8.217007059582304e+26)},\n",
       "   'volume': 1}},\n",
       " {'shared_environment': {'counts': {'Acetate': np.float64(4.191954733588488e+29),\n",
       "    'R Acetoin': 0.0,\n",
       "    'D-Glucose': np.float64(2.2),\n",
       "    'B. subtilis': np.float64(4.127600330727149e+28)},\n",
       "   'concentrations': {'Acetate': np.float64(4.191954733588488e+29),\n",
       "    'R Acetoin': 0.0,\n",
       "    'D-Glucose': np.float64(2.2),\n",
       "    'B. subtilis': np.float64(4.127600330727149e+28)},\n",
       "   'volume': 1}},\n",
       " {'shared_environment': {'counts': {'Acetate': np.float64(2.105719712699459e+31),\n",
       "    'R Acetoin': 0.0,\n",
       "    'D-Glucose': np.float64(2.2),\n",
       "    'B. subtilis': np.float64(2.0733929479044298e+30)},\n",
       "   'concentrations': {'Acetate': np.float64(2.105719712699459e+31),\n",
       "    'R Acetoin': 0.0,\n",
       "    'D-Glucose': np.float64(2.2),\n",
       "    'B. subtilis': np.float64(2.0733929479044298e+30)},\n",
       "   'volume': 1}},\n",
       " {'shared_environment': {'counts': {'Acetate': np.float64(1.0577536710792096e+33),\n",
       "    'R Acetoin': 0.0,\n",
       "    'D-Glucose': np.float64(2.2),\n",
       "    'B. subtilis': np.float64(1.0415151594055824e+32)},\n",
       "   'concentrations': {'Acetate': np.float64(1.0577536710792096e+33),\n",
       "    'R Acetoin': 0.0,\n",
       "    'D-Glucose': np.float64(2.2),\n",
       "    'B. subtilis': np.float64(1.0415151594055824e+32)},\n",
       "   'volume': 1}}]"
      ]
     },
     "execution_count": 12,
     "metadata": {},
     "output_type": "execute_result"
    }
   ],
   "source": [
    "results"
   ]
  },
  {
   "cell_type": "code",
   "id": "ceb7f60b-4bec-4089-930b-db3c84a33173",
   "metadata": {
    "ExecuteTime": {
     "end_time": "2025-03-03T19:10:27.825751Z",
     "start_time": "2025-03-03T19:10:26.884160Z"
    }
   },
   "source": "model = model_from_file(model_file)",
   "outputs": [],
   "execution_count": 3
  },
  {
   "metadata": {
    "ExecuteTime": {
     "end_time": "2025-03-03T19:10:50.158146Z",
     "start_time": "2025-03-03T19:10:50.142549Z"
    }
   },
   "cell_type": "code",
   "source": "results = model.optimize()",
   "id": "e45905846377ce6e",
   "outputs": [],
   "execution_count": 5
  },
  {
   "metadata": {
    "ExecuteTime": {
     "end_time": "2025-03-03T19:10:53.667290Z",
     "start_time": "2025-03-03T19:10:53.663753Z"
    }
   },
   "cell_type": "code",
   "source": "results",
   "id": "337bd130363ce603",
   "outputs": [
    {
     "data": {
      "text/plain": [
       "<Solution 112.666 at 0x1297e5070>"
      ],
      "text/html": [
       "<strong><em>Optimal</em> solution with objective value 112.666</strong><br><div>\n",
       "<style scoped>\n",
       "    .dataframe tbody tr th:only-of-type {\n",
       "        vertical-align: middle;\n",
       "    }\n",
       "\n",
       "    .dataframe tbody tr th {\n",
       "        vertical-align: top;\n",
       "    }\n",
       "\n",
       "    .dataframe thead th {\n",
       "        text-align: right;\n",
       "    }\n",
       "</style>\n",
       "<table border=\"1\" class=\"dataframe\">\n",
       "  <thead>\n",
       "    <tr style=\"text-align: right;\">\n",
       "      <th></th>\n",
       "      <th>fluxes</th>\n",
       "      <th>reduced_costs</th>\n",
       "    </tr>\n",
       "  </thead>\n",
       "  <tbody>\n",
       "    <tr>\n",
       "      <th>1H2NPTH</th>\n",
       "      <td>0.000000</td>\n",
       "      <td>-6.365316e-03</td>\n",
       "    </tr>\n",
       "    <tr>\n",
       "      <th>1P4H2CBXLAH</th>\n",
       "      <td>0.000000</td>\n",
       "      <td>1.831945e-19</td>\n",
       "    </tr>\n",
       "    <tr>\n",
       "      <th>23DHMPO</th>\n",
       "      <td>0.000000</td>\n",
       "      <td>5.753250e-18</td>\n",
       "    </tr>\n",
       "    <tr>\n",
       "      <th>23PDE2</th>\n",
       "      <td>0.000000</td>\n",
       "      <td>-7.472035e-19</td>\n",
       "    </tr>\n",
       "    <tr>\n",
       "      <th>23PDE4</th>\n",
       "      <td>0.000000</td>\n",
       "      <td>-7.472035e-19</td>\n",
       "    </tr>\n",
       "    <tr>\n",
       "      <th>...</th>\n",
       "      <td>...</td>\n",
       "      <td>...</td>\n",
       "    </tr>\n",
       "    <tr>\n",
       "      <th>rtranscription</th>\n",
       "      <td>112.666085</td>\n",
       "      <td>0.000000e+00</td>\n",
       "    </tr>\n",
       "    <tr>\n",
       "      <th>sink_PGPm1[c]</th>\n",
       "      <td>-0.000023</td>\n",
       "      <td>0.000000e+00</td>\n",
       "    </tr>\n",
       "    <tr>\n",
       "      <th>sink_s</th>\n",
       "      <td>0.000000</td>\n",
       "      <td>0.000000e+00</td>\n",
       "    </tr>\n",
       "    <tr>\n",
       "      <th>sink_thissh[c]</th>\n",
       "      <td>0.000000</td>\n",
       "      <td>0.000000e+00</td>\n",
       "    </tr>\n",
       "    <tr>\n",
       "      <th>biomass166</th>\n",
       "      <td>112.666085</td>\n",
       "      <td>2.229336e-16</td>\n",
       "    </tr>\n",
       "  </tbody>\n",
       "</table>\n",
       "<p>1765 rows × 2 columns</p>\n",
       "</div>"
      ]
     },
     "execution_count": 6,
     "metadata": {},
     "output_type": "execute_result"
    }
   ],
   "execution_count": 6
  },
  {
   "metadata": {},
   "cell_type": "code",
   "outputs": [],
   "execution_count": null,
   "source": "",
   "id": "10b629cc88a7c8fc"
  }
 ],
 "metadata": {
  "kernelspec": {
   "display_name": "Python 3 (ipykernel)",
   "language": "python",
   "name": "python3"
  },
  "language_info": {
   "codemirror_mode": {
    "name": "ipython",
    "version": 3
   },
   "file_extension": ".py",
   "mimetype": "text/x-python",
   "name": "python",
   "nbconvert_exporter": "python",
   "pygments_lexer": "ipython3",
   "version": "3.13.2"
  }
 },
 "nbformat": 4,
 "nbformat_minor": 5
}
