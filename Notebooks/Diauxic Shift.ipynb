{
 "cells": [
  {
   "cell_type": "markdown",
   "id": "d78886e4-ba21-4c8b-b0e8-f2fdc4a3aa33",
   "metadata": {},
   "source": [
    "# *Bacillus subtilis* Diauxic Shift\n",
    "\n",
    "Here we will attempt to reproduce the results from [Rosenthal et al. 2018](https://elifesciences.org/articles/33099). \n",
    "\n",
    "The shared environment will contain 50 mM Malate and 22 mM Glucose. We will assume that the environment is 1L in volume - to avoid unit conversions. \n",
    "The simulation begins with a wild-type *Bacillus subtilis*. An `EnvironmentMonitor` process is added to monitor the Acetate concentration in the Shared Environment, once the concentration of Acetate exceeds the defined threshold - it will deploy a subpopulation of *Bacillus subtilis* that prefers metabolizing Acetate."
   ]
  },
  {
   "cell_type": "code",
   "id": "fe256aa9-4c98-4608-b45c-269566b08003",
   "metadata": {
    "ExecuteTime": {
     "end_time": "2025-04-22T15:57:38.139570Z",
     "start_time": "2025-04-22T15:57:38.124690Z"
    }
   },
   "source": [
    "from copy import deepcopy\n",
    "import cobra\n",
    "import cobra.flux_analysis\n",
    "from process_bigraph import Composite\n",
    "from process_bigraph import ProcessTypes\n",
    "from process_bigraph.emitter import gather_emitter_results\n",
    "\n",
    "from cdFBA.utils import SHARED_ENVIRONMENT, SPECIES_STORE, THRESHOLDS, DFBA_RESULTS\n",
    "from cdFBA import register_types\n",
    "from cdFBA.processes.dfba import dFBA, UpdateEnvironment, StaticConcentration, Injector, WaveFunction\n",
    "from cdFBA.processes.dfbalauncher import get_env_monitor_spec, EnvironmentMonitor\n",
    "\n",
    "from cdFBA.utils import make_cdfba_composite, get_injector_spec, get_wave_spec, get_static_spec, model_from_file, set_concentration, set_kinetics\n",
    "from cdFBA.utils import get_exchanges, get_substrates, get_reaction_map\n",
    "\n",
    "from matplotlib import pyplot as plt\n",
    "from pprint import pprint\n",
    "\n",
    "import cProfile\n",
    "import pstats\n",
    "import io"
   ],
   "outputs": [],
   "execution_count": 45
  },
  {
   "cell_type": "code",
   "id": "b6452ff1-a29f-4602-912f-b5e572038903",
   "metadata": {
    "ExecuteTime": {
     "end_time": "2025-04-22T15:57:38.147127Z",
     "start_time": "2025-04-22T15:57:38.144900Z"
    }
   },
   "source": [
    "model_file = 'iYO844'\n",
    "model_dict = {\n",
    "    'B.subtilis': model_file\n",
    "}"
   ],
   "outputs": [],
   "execution_count": 46
  },
  {
   "cell_type": "code",
   "id": "b6c5764d-b704-4dd3-8f56-138cfe1abc6f",
   "metadata": {
    "scrolled": true,
    "ExecuteTime": {
     "end_time": "2025-04-22T15:57:39.860415Z",
     "start_time": "2025-04-22T15:57:38.162274Z"
    }
   },
   "source": [
    "exchanges = ['EX_ac_e', 'EX_mal__L_e', 'EX_glc__D_e']\n",
    "volume = 1\n",
    "spec = make_cdfba_composite(model_dict, medium_type=None, exchanges=exchanges, volume=volume, interval=0.1)"
   ],
   "outputs": [],
   "execution_count": 47
  },
  {
   "metadata": {
    "ExecuteTime": {
     "end_time": "2025-04-22T15:57:39.867569Z",
     "start_time": "2025-04-22T15:57:39.865025Z"
    }
   },
   "cell_type": "code",
   "source": [
    "# Set environmental threshold\n",
    "spec[THRESHOLDS] = {\n",
    "        \"Acetate\": {\n",
    "            \"type\": \"add\",\n",
    "            \"substrate\": \"Acetate\",\n",
    "            \"range\": {\n",
    "                \"upper\": 3,\n",
    "                \"lower\": None,\n",
    "            },\n",
    "            \"parent\": \"B.subtilis\",\n",
    "            \"name\": \"B.subtilis 2\",\n",
    "            \"changes\":{\n",
    "                \"gene_knockout\": [],\n",
    "                \"reaction_knockout\": [],\n",
    "                \"bounds\": {},\n",
    "                \"kinetics\": {\n",
    "                    \"Acetate\": (0.5, 14),\n",
    "                    \"D-Glucose\": (0.2, 5),\n",
    "                    \"L-Malate\": (0.2, 5)\n",
    "                },\n",
    "            },\n",
    "            \"mass\": 0.25,\n",
    "        }\n",
    "    }\n",
    "spec[\"monitor\"] = get_env_monitor_spec(interval=1.0)"
   ],
   "id": "ab5701e0681f8c86",
   "outputs": [],
   "execution_count": 48
  },
  {
   "metadata": {
    "ExecuteTime": {
     "end_time": "2025-04-22T15:57:39.873605Z",
     "start_time": "2025-04-22T15:57:39.872015Z"
    }
   },
   "cell_type": "code",
   "source": "spec[\"monitor\"] = get_env_monitor_spec(interval=0.1)",
   "id": "d67a1eee136bfa82",
   "outputs": [],
   "execution_count": 49
  },
  {
   "cell_type": "code",
   "id": "6edab3ed-caa2-4fa1-9b0b-b8cf990a5ac3",
   "metadata": {
    "scrolled": true,
    "ExecuteTime": {
     "end_time": "2025-04-22T15:57:39.879582Z",
     "start_time": "2025-04-22T15:57:39.877735Z"
    }
   },
   "source": [
    "#Set reaction bounds\n",
    "spec[SPECIES_STORE]['B.subtilis']['config']['bounds'] = {\n",
    "            'EX_o2_e': {'lower': -2, 'upper': None},\n",
    "            'ATPM': {'lower': 1, 'upper': 1},\n",
    "            'EX_ac_e': {'lower': 0, 'upper': None},\n",
    "        }\n",
    "#Set initial concentrations\n",
    "concentrations = {\n",
    "    'Acetate': 0,\n",
    "    'D-Glucose': 22,\n",
    "    'L-Malate': 55,\n",
    "    # ' R  Acetoin C4H8O2': 0\n",
    "}\n",
    "set_concentration(spec, concentrations)"
   ],
   "outputs": [],
   "execution_count": 50
  },
  {
   "metadata": {
    "ExecuteTime": {
     "end_time": "2025-04-22T15:57:39.885503Z",
     "start_time": "2025-04-22T15:57:39.883864Z"
    }
   },
   "cell_type": "code",
   "source": [
    "# set kinetics\n",
    "kinetics = {\n",
    "    \"L-Malate\": (0.02, 14),\n",
    "    \"D-Glucose\": (0.02, 14),\n",
    "    \"Acetate\": (0.5, 0)\n",
    "}\n",
    "for species in model_dict.keys():\n",
    "    set_kinetics(species, spec, kinetics)"
   ],
   "id": "9dc86101ec44c06",
   "outputs": [],
   "execution_count": 51
  },
  {
   "cell_type": "code",
   "id": "f6c56efd-0729-4c34-862e-ad70da3f0e60",
   "metadata": {
    "ExecuteTime": {
     "end_time": "2025-04-22T15:57:39.895403Z",
     "start_time": "2025-04-22T15:57:39.893571Z"
    }
   },
   "source": [
    "#set emitter specs\n",
    "spec[\"emitter\"] = {\n",
    "    \"_type\": \"step\",\n",
    "    \"address\": \"local:ram-emitter\",\n",
    "    \"config\": {\n",
    "        \"emit\": {\n",
    "            \"shared_environment\": \"any\",\n",
    "            \"global_time\": \"any\",\n",
    "        }\n",
    "    },\n",
    "    \"inputs\": {\n",
    "        \"shared_environment\": [SHARED_ENVIRONMENT],\n",
    "        \"global_time\": [\"global_time\"]\n",
    "    }\n",
    "}"
   ],
   "outputs": [],
   "execution_count": 52
  },
  {
   "cell_type": "code",
   "id": "eeeaaf0f-3c63-4b9d-945f-fdfb0b7293f8",
   "metadata": {
    "ExecuteTime": {
     "end_time": "2025-04-22T15:57:39.907465Z",
     "start_time": "2025-04-22T15:57:39.898571Z"
    }
   },
   "source": [
    "#create the core object\n",
    "core = ProcessTypes()\n",
    "#register data types\n",
    "core = register_types(core)\n",
    "#register all processes and steps\n",
    "core.register_process('dFBA', dFBA)\n",
    "core.register_process('UpdateEnvironment', UpdateEnvironment)\n",
    "core.register_process('StaticConcentration', StaticConcentration)\n",
    "core.register_process('WaveFunction', WaveFunction)\n",
    "core.register_process('Injector', Injector)\n",
    "core.register_process('EnvironmentMonitor', EnvironmentMonitor)"
   ],
   "outputs": [],
   "execution_count": 53
  },
  {
   "cell_type": "code",
   "id": "1dea7ac5-2697-422d-befa-edab44edc49e",
   "metadata": {
    "ExecuteTime": {
     "end_time": "2025-04-22T15:57:40.610060Z",
     "start_time": "2025-04-22T15:57:39.912444Z"
    }
   },
   "source": [
    "#create simulation composite\n",
    "sim = Composite({\n",
    "        \"state\": spec,\n",
    "        },\n",
    "        core=core\n",
    "    )"
   ],
   "outputs": [],
   "execution_count": 54
  },
  {
   "cell_type": "code",
   "id": "12ac9229-4cb2-4c84-bd7c-6a7ba00dc46f",
   "metadata": {
    "ExecuteTime": {
     "end_time": "2025-04-22T15:57:53.328538Z",
     "start_time": "2025-04-22T15:57:40.614574Z"
    }
   },
   "source": "sim.run(40)",
   "outputs": [
    {
     "name": "stderr",
     "output_type": "stream",
     "text": [
      "/opt/anaconda3/envs/fbapractice/lib/python3.9/site-packages/cobra/util/solver.py:554: UserWarning: Solver status is 'infeasible'.\n",
      "  warn(f\"Solver status is '{status}'.\", UserWarning)\n"
     ]
    }
   ],
   "execution_count": 55
  },
  {
   "cell_type": "code",
   "id": "7f3c40ef-2cf6-45d3-8acb-1816c3ef94e0",
   "metadata": {
    "ExecuteTime": {
     "end_time": "2025-04-22T15:57:53.335715Z",
     "start_time": "2025-04-22T15:57:53.333933Z"
    }
   },
   "source": "results = gather_emitter_results(sim)[('emitter',)]",
   "outputs": [],
   "execution_count": 56
  },
  {
   "cell_type": "code",
   "id": "4082f3c6-6489-4179-ae0a-6347e1c48518",
   "metadata": {
    "ExecuteTime": {
     "end_time": "2025-04-22T15:57:53.343198Z",
     "start_time": "2025-04-22T15:57:53.340485Z"
    }
   },
   "source": [
    "#extract time-series data\n",
    "timepoints = []\n",
    "for timepoint in results:\n",
    "    time = timepoint.pop('global_time')\n",
    "    timepoints.append(time)\n",
    "env = [timepoint['shared_environment']['concentrations'] for timepoint in results]\n",
    "env_combined = {}\n",
    "for d in env:\n",
    "    for key, value in d.items():\n",
    "        if key not in env_combined:\n",
    "            env_combined[key] = []\n",
    "        env_combined[key].append(value)"
   ],
   "outputs": [],
   "execution_count": 57
  },
  {
   "cell_type": "code",
   "id": "41906460-ffbe-4444-8367-1cfc9338213a",
   "metadata": {
    "ExecuteTime": {
     "end_time": "2025-04-22T15:57:53.407201Z",
     "start_time": "2025-04-22T15:57:53.349499Z"
    }
   },
   "source": [
    "#plot results for biomass\n",
    "fig, ax = plt.subplots(dpi=100)\n",
    "for key, value in env_combined.items():\n",
    "    if key not in ['Acetate', 'L-Malate', 'D-Glucose']:\n",
    "        length_diff = len(timepoints) - len(value)\n",
    "        if length_diff > 0:\n",
    "            # Align the data to the end of the timepoints\n",
    "            aligned_timepoints = timepoints[length_diff:]\n",
    "        else:\n",
    "            aligned_timepoints = timepoints\n",
    "        ax.plot(aligned_timepoints, value, label=key)\n",
    "plt.xlabel(\"Time\")\n",
    "plt.ylabel(\"Substrate Concentration\")\n",
    "plt.legend()\n",
    "plt.tight_layout()\n",
    "plt.show()"
   ],
   "outputs": [
    {
     "data": {
      "text/plain": [
       "<Figure size 640x480 with 1 Axes>"
      ],
      "image/png": "[encoded data removed]"
     },
     "metadata": {},
     "output_type": "display_data"
    }
   ],
   "execution_count": 58
  },
  {
   "cell_type": "code",
   "id": "356545be-4381-41db-887f-56c3a04de542",
   "metadata": {
    "scrolled": true,
    "ExecuteTime": {
     "end_time": "2025-04-22T15:57:53.470665Z",
     "start_time": "2025-04-22T15:57:53.414456Z"
    }
   },
   "source": [
    "#plot results for biomass\n",
    "fig, ax = plt.subplots(dpi=100)\n",
    "for key, value in env_combined.items():\n",
    "    if key in ['Acetate', 'L-Malate', 'D-Glucose']:\n",
    "        length_diff = len(timepoints) - len(value)\n",
    "        if length_diff > 0:\n",
    "            # Align the data to the end of the timepoints\n",
    "            aligned_timepoints = timepoints[length_diff:]\n",
    "        else:\n",
    "            aligned_timepoints = timepoints\n",
    "        ax.plot(aligned_timepoints, value, label=key)\n",
    "plt.xlabel(\"Time\")\n",
    "plt.ylabel(\"Substrate Concentration\")\n",
    "plt.legend()\n",
    "plt.tight_layout()\n",
    "plt.show()"
   ],
   "outputs": [
    {
     "data": {
      "text/plain": [
       "<Figure size 640x480 with 1 Axes>"
      ],
      "image/png": "[encoded data removed]"
     },
     "metadata": {},
     "output_type": "display_data"
    }
   ],
   "execution_count": 59
  },
  {
   "metadata": {
    "ExecuteTime": {
     "end_time": "2025-04-22T15:57:54.300841Z",
     "start_time": "2025-04-22T15:57:53.476792Z"
    }
   },
   "cell_type": "code",
   "source": "model = model_from_file(model_file)",
   "id": "3c7ae0d546b95498",
   "outputs": [],
   "execution_count": 60
  },
  {
   "metadata": {
    "ExecuteTime": {
     "end_time": "2025-04-22T15:57:54.309675Z",
     "start_time": "2025-04-22T15:57:54.306748Z"
    }
   },
   "cell_type": "code",
   "source": "list(model.metabolites.get_by_id('actn__R_c').reactions)[1]",
   "id": "db3f608c78f5b372",
   "outputs": [
    {
     "data": {
      "text/plain": [
       "<Reaction ACTNabc1 at 0x17c366b50>"
      ],
      "text/html": [
       "\n",
       "        <table>\n",
       "            <tr>\n",
       "                <td><strong>Reaction identifier</strong></td><td>ACTNabc1</td>\n",
       "            </tr><tr>\n",
       "                <td><strong>Name</strong></td><td>Acetoin efflux via ABC system</td>\n",
       "            </tr><tr>\n",
       "                <td><strong>Memory address</strong></td>\n",
       "                <td>0x17c366b50</td>\n",
       "            </tr><tr>\n",
       "                <td><strong>Stoichiometry</strong></td>\n",
       "                <td>\n",
       "                    <p style='text-align:right'>actn__R_c + atp_c + h2o_c --> actn__R_e + adp_c + h_c + pi_c</p>\n",
       "                    <p style='text-align:right'>R Acetoin C4H8O2 + ATP C10H12N5O13P3 + H2O H2O --> R Acetoin C4H8O2 + ADP C10H12N5O10P2 + H+ + Phosphate</p>\n",
       "                </td>\n",
       "            </tr><tr>\n",
       "                <td><strong>GPR</strong></td><td>BSU30450 and BSU30440 and BSU30430 and BSU30420 and BSU30410</td>\n",
       "            </tr><tr>\n",
       "                <td><strong>Lower bound</strong></td><td>0.0</td>\n",
       "            </tr><tr>\n",
       "                <td><strong>Upper bound</strong></td><td>999999.0</td>\n",
       "            </tr>\n",
       "        </table>\n",
       "        "
      ]
     },
     "execution_count": 61,
     "metadata": {},
     "output_type": "execute_result"
    }
   ],
   "execution_count": 61
  },
  {
   "metadata": {
    "ExecuteTime": {
     "end_time": "2025-04-22T15:57:54.319508Z",
     "start_time": "2025-04-22T15:57:54.317376Z"
    }
   },
   "cell_type": "code",
   "source": "model.reactions.get_by_id('ACLS')",
   "id": "def607c76d35e88b",
   "outputs": [
    {
     "data": {
      "text/plain": [
       "<Reaction ACLS at 0x17c51bb20>"
      ],
      "text/html": [
       "\n",
       "        <table>\n",
       "            <tr>\n",
       "                <td><strong>Reaction identifier</strong></td><td>ACLS</td>\n",
       "            </tr><tr>\n",
       "                <td><strong>Name</strong></td><td>Acetolactate synthase</td>\n",
       "            </tr><tr>\n",
       "                <td><strong>Memory address</strong></td>\n",
       "                <td>0x17c51bb20</td>\n",
       "            </tr><tr>\n",
       "                <td><strong>Stoichiometry</strong></td>\n",
       "                <td>\n",
       "                    <p style='text-align:right'>h_c + 2.0 pyr_c --> alac__S_c + co2_c</p>\n",
       "                    <p style='text-align:right'>H+ + 2.0 Pyruvate --> (S)-2-Acetolactate + CO2 CO2</p>\n",
       "                </td>\n",
       "            </tr><tr>\n",
       "                <td><strong>GPR</strong></td><td>(BSU28310 and BSU28300) or BSU36010</td>\n",
       "            </tr><tr>\n",
       "                <td><strong>Lower bound</strong></td><td>0.0</td>\n",
       "            </tr><tr>\n",
       "                <td><strong>Upper bound</strong></td><td>999999.0</td>\n",
       "            </tr>\n",
       "        </table>\n",
       "        "
      ]
     },
     "execution_count": 62,
     "metadata": {},
     "output_type": "execute_result"
    }
   ],
   "execution_count": 62
  },
  {
   "metadata": {
    "ExecuteTime": {
     "end_time": "2025-04-22T15:57:54.337551Z",
     "start_time": "2025-04-22T15:57:54.335815Z"
    }
   },
   "cell_type": "code",
   "source": "",
   "id": "4aaf9ed92e01742c",
   "outputs": [],
   "execution_count": null
  }
 ],
 "metadata": {
  "kernelspec": {
   "display_name": "Python 3 (ipykernel)",
   "language": "python",
   "name": "python3"
  },
  "language_info": {
   "codemirror_mode": {
    "name": "ipython",
    "version": 3
   },
   "file_extension": ".py",
   "mimetype": "text/x-python",
   "name": "python",
   "nbconvert_exporter": "python",
   "pygments_lexer": "ipython3",
   "version": "3.13.2"
  }
 },
 "nbformat": 4,
 "nbformat_minor": 5
}
