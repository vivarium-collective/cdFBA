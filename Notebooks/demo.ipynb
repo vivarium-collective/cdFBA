{
 "cells": [
  {
   "cell_type": "code",
   "id": "initial_id",
   "metadata": {
    "collapsed": true,
    "ExecuteTime": {
     "end_time": "2025-02-11T17:40:03.487648Z",
     "start_time": "2025-02-11T17:40:01.909603Z"
    }
   },
   "source": [
    "from cdFBA.processes.dfba import DFBA, UpdateEnvironment, Chemostat, Injector, WaveFunction\n",
    "from matplotlib import pyplot as plt\n",
    "\n",
    "from cdFBA.utils import DFBAconfig, model_from_file, get_objective_reaction, get_injector_spec, get_wave_spec, \\\n",
    "    get_chemo_spec, dfba_config\n",
    "from cdFBA.utils import dfba_config_from_model, get_single_dfba_spec, dfba_config, environment_spec, initial_environment, initial_conditions\n",
    "import cobra"
   ],
   "outputs": [],
   "execution_count": 2
  },
  {
   "metadata": {
    "ExecuteTime": {
     "end_time": "2025-02-11T17:42:45.672070Z",
     "start_time": "2025-02-11T17:42:42.750565Z"
    }
   },
   "cell_type": "code",
   "source": [
    "name1 = \"Escherichia coli K12\"\n",
    "model_file_1 = \"iAF1260\"\n",
    "medium_type='minimal'\n",
    "model_1 = model_from_file(model_file=model_file_1)\n",
    "media_1 = DFBAconfig(model=model_1, medium_type=medium_type)\n",
    "initial_counts = initial_conditions(model=model_1, biomass=0.1, medium_type=medium_type, name=name1)\n",
    "initial_env = initial_environment(volume=1.0, initial_counts= initial_counts)\n",
    "config_1 = dfba_config(\n",
    "    model_file = model_file_1,\n",
    "    name = name1,\n",
    "    kinetics = media_1.kinetics,\n",
    "    reaction_map = media_1.reaction_map,\n",
    "    biomass_identifier = media_1.biomass_indentifier,\n",
    "    bounds = None,\n",
    ")"
   ],
   "id": "40274cb8c6adcaea",
   "outputs": [],
   "execution_count": 6
  },
  {
   "metadata": {
    "ExecuteTime": {
     "end_time": "2025-02-11T17:42:49.520144Z",
     "start_time": "2025-02-11T17:42:49.517764Z"
    }
   },
   "cell_type": "code",
   "source": [
    "spec={}\n",
    "spec[name1] = get_single_dfba_spec(config=config_1, interval=0.5)"
   ],
   "id": "de0d1a4ee8afdfcc",
   "outputs": [],
   "execution_count": 7
  },
  {
   "metadata": {
    "ExecuteTime": {
     "end_time": "2025-02-11T17:44:05.303076Z",
     "start_time": "2025-02-11T17:44:05.299911Z"
    }
   },
   "cell_type": "code",
   "source": "spec['shared environment'] = initial_environment(volume=2, species_list=[name1])",
   "id": "9fafd838308c5ca5",
   "outputs": [],
   "execution_count": 9
  },
  {
   "metadata": {},
   "cell_type": "code",
   "outputs": [],
   "execution_count": null,
   "source": "",
   "id": "563305bbc3269a1e"
  }
 ],
 "metadata": {
  "kernelspec": {
   "display_name": "Python 3",
   "language": "python",
   "name": "python3"
  },
  "language_info": {
   "codemirror_mode": {
    "name": "ipython",
    "version": 2
   },
   "file_extension": ".py",
   "mimetype": "text/x-python",
   "name": "python",
   "nbconvert_exporter": "python",
   "pygments_lexer": "ipython2",
   "version": "2.7.6"
  }
 },
 "nbformat": 4,
 "nbformat_minor": 5
}
