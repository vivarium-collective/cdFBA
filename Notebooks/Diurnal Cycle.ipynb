{
 "cells": [
  {
   "cell_type": "code",
   "id": "initial_id",
   "metadata": {
    "collapsed": true,
    "ExecuteTime": {
     "end_time": "2025-04-10T16:58:52.847743Z",
     "start_time": "2025-04-10T16:58:52.845719Z"
    }
   },
   "source": [
    "from copy import deepcopy\n",
    "import numpy as np\n",
    "from process_bigraph import Composite\n",
    "from process_bigraph import ProcessTypes\n",
    "from process_bigraph.emitter import gather_emitter_results\n",
    "\n",
    "from cdFBA import register_types\n",
    "from cdFBA.processes.dfba import dFBA, UpdateEnvironment, StaticConcentration, Injector, WaveFunction\n",
    "\n",
    "from cdFBA.utils import make_cdfba_composite, get_injector_spec, get_wave_spec, get_static_spec, set_concentration, \\\n",
    "    set_kinetics, model_from_file\n",
    "\n",
    "from matplotlib import pyplot as plt\n",
    "from pprint import pprint"
   ],
   "outputs": [],
   "execution_count": 27
  },
  {
   "metadata": {
    "ExecuteTime": {
     "end_time": "2025-04-10T16:58:53.426210Z",
     "start_time": "2025-04-10T16:58:52.860097Z"
    }
   },
   "cell_type": "code",
   "source": [
    "#Create a model dictionary. The keys should be the names of the individual dFBA models/species and the values should be\n",
    "#BiGG model ids or the path name to the associated model file\n",
    "model_dict = {\n",
    "    \"Prochlorococcus\": \"iSO595v7.xml\",\n",
    "}\n",
    "#list exchange reactions\n",
    "exchanges = [\"LightEX\"]\n",
    "#set environment volume\n",
    "volume=2\n",
    "# define a single dFBA model\n",
    "spec = make_cdfba_composite(model_dict, medium_type=None, exchanges=exchanges, volume=volume, interval=0.1)\n",
    "# #print spec\n",
    "pprint(spec)"
   ],
   "id": "20aee5bdcd4de950",
   "outputs": [
    {
     "name": "stdout",
     "output_type": "stream",
     "text": [
      "{'Shared Environment': {'concentrations': {'Photon': 10.0,\n",
      "                                           'Prochlorococcus': 0.25},\n",
      "                        'counts': {'Photon': 20, 'Prochlorococcus': 0.5},\n",
      "                        'volume': 2},\n",
      " 'Species': {'Prochlorococcus': {'_type': 'process',\n",
      "                                 'address': 'local:dFBA',\n",
      "                                 'config': {'bounds': {},\n",
      "                                            'changes': {'gene_knockout': [],\n",
      "                                                        'reaction_knockout': []},\n",
      "                                            'kinetics': {'Photon': (0.5, 2.0)},\n",
      "                                            'model_file': 'iSO595v7.xml',\n",
      "                                            'name': 'Prochlorococcus',\n",
      "                                            'reaction_map': {'Photon': 'LightEX'}},\n",
      "                                 'inputs': {'current_update': ['..',\n",
      "                                                               'dFBA Results'],\n",
      "                                            'shared_environment': ['..',\n",
      "                                                                   'Shared '\n",
      "                                                                   'Environment']},\n",
      "                                 'interval': 0.1,\n",
      "                                 'outputs': {'dfba_update': ['..',\n",
      "                                                             'dFBA Results',\n",
      "                                                             'Prochlorococcus']}}},\n",
      " 'dFBA Results': {'Prochlorococcus': {'Photon': 0, 'Prochlorococcus': 0}},\n",
      " 'update environment': {'_type': 'process',\n",
      "                        'address': 'local:UpdateEnvironment',\n",
      "                        'config': {},\n",
      "                        'inputs': {'shared_environment': ['Shared Environment'],\n",
      "                                   'species_updates': ['dFBA Results']},\n",
      "                        'outputs': {'shared_environment': ['Shared '\n",
      "                                                           'Environment']}}}\n"
     ]
    }
   ],
   "execution_count": 28
  },
  {
   "metadata": {
    "ExecuteTime": {
     "end_time": "2025-04-10T16:58:53.434066Z",
     "start_time": "2025-04-10T16:58:53.431732Z"
    }
   },
   "cell_type": "code",
   "source": [
    "#configure wave_function process\n",
    "wave_config = {\n",
    "    \"substrate_params\": {\n",
    "        \"Photon\": {\n",
    "            \"amplitude\": 5,\n",
    "            \"angular_frequency\": 1/np.pi,\n",
    "            \"base_concentration\": 0,\n",
    "            \"phase_shift\": 0\n",
    "        }\n",
    "    }\n",
    "}\n",
    "spec = deepcopy(spec)\n",
    "spec['Wave Function'] = get_wave_spec(wave_config, interval=0.1)\n",
    "\n",
    "#set external substrate concentrations\n",
    "concentrations = {\n",
    "    \"Photon\": 0\n",
    "}\n",
    "set_concentration(spec, concentrations)"
   ],
   "id": "d3fc7289745c77b6",
   "outputs": [],
   "execution_count": 29
  },
  {
   "metadata": {
    "ExecuteTime": {
     "end_time": "2025-04-10T16:58:53.445652Z",
     "start_time": "2025-04-10T16:58:53.443960Z"
    }
   },
   "cell_type": "code",
   "source": [
    "#set emitter specs\n",
    "spec['emitter'] = {\n",
    "        \"_type\": \"step\",\n",
    "        \"address\": \"local:ram-emitter\",\n",
    "        \"config\": {\n",
    "            \"emit\": {\n",
    "                \"shared_environment\": \"any\",\n",
    "                \"global_time\": \"any\",\n",
    "            }\n",
    "        },\n",
    "        \"inputs\": {\n",
    "            \"shared_environment\": [\"Shared Environment\"],\n",
    "            \"global_time\": [\"global_time\"]\n",
    "        }\n",
    "    }"
   ],
   "id": "25bcf91b045ccbb1",
   "outputs": [],
   "execution_count": 30
  },
  {
   "metadata": {
    "ExecuteTime": {
     "end_time": "2025-04-10T16:58:53.463131Z",
     "start_time": "2025-04-10T16:58:53.454977Z"
    }
   },
   "cell_type": "code",
   "source": [
    "#create the core object\n",
    "core = ProcessTypes()\n",
    "#register data types\n",
    "core = register_types(core)\n",
    "#register all processes and steps\n",
    "core.register_process('dFBA', dFBA)\n",
    "core.register_process('UpdateEnvironment', UpdateEnvironment)\n",
    "core.register_process('StaticConcentration', StaticConcentration)\n",
    "core.register_process('WaveFunction', WaveFunction)\n",
    "core.register_process('Injector', Injector)"
   ],
   "id": "3d0dbd15ef557359",
   "outputs": [],
   "execution_count": 31
  },
  {
   "metadata": {
    "ExecuteTime": {
     "end_time": "2025-04-10T16:58:53.783233Z",
     "start_time": "2025-04-10T16:58:53.466956Z"
    }
   },
   "cell_type": "code",
   "source": [
    "sim = Composite(\n",
    "    {\n",
    "        \"state\": spec,\n",
    "    },\n",
    "    core=core\n",
    ")"
   ],
   "id": "712ef52639404cec",
   "outputs": [],
   "execution_count": 32
  },
  {
   "metadata": {
    "ExecuteTime": {
     "end_time": "2025-04-10T16:59:04.171334Z",
     "start_time": "2025-04-10T16:58:53.788877Z"
    }
   },
   "cell_type": "code",
   "source": [
    "#run simulation\n",
    "sim.run(40)"
   ],
   "id": "e0a722d6bc0ea037",
   "outputs": [],
   "execution_count": 33
  },
  {
   "metadata": {
    "ExecuteTime": {
     "end_time": "2025-04-10T16:59:04.178688Z",
     "start_time": "2025-04-10T16:59:04.176773Z"
    }
   },
   "cell_type": "code",
   "source": [
    "#gather results\n",
    "results = gather_emitter_results(sim)[('emitter',)]"
   ],
   "id": "961dfa231255dd3d",
   "outputs": [],
   "execution_count": 34
  },
  {
   "metadata": {
    "ExecuteTime": {
     "end_time": "2025-04-10T16:59:04.186261Z",
     "start_time": "2025-04-10T16:59:04.183770Z"
    }
   },
   "cell_type": "code",
   "source": [
    "#extract time-series data\n",
    "timepoints = []\n",
    "for timepoint in results:\n",
    "    time = timepoint.pop('global_time')\n",
    "    timepoints.append(time)\n",
    "env = [timepoint['shared_environment']['concentrations'] for timepoint in results]\n",
    "env_combined = {}\n",
    "for d in env:\n",
    "    for key, value in d.items():\n",
    "        if key not in env_combined:\n",
    "            env_combined[key] = []\n",
    "        env_combined[key].append(value)"
   ],
   "id": "c7f0e803371f79f0",
   "outputs": [],
   "execution_count": 35
  },
  {
   "metadata": {
    "ExecuteTime": {
     "end_time": "2025-04-10T16:59:04.247049Z",
     "start_time": "2025-04-10T16:59:04.194483Z"
    }
   },
   "cell_type": "code",
   "source": [
    "#plot results for biomass\n",
    "fig, ax = plt.subplots(dpi=100)\n",
    "for key, value in env_combined.items():\n",
    "    ax.plot(timepoints, env_combined[key], label=key)\n",
    "plt.xlabel('Time')\n",
    "plt.ylabel('Substrate Concentration')\n",
    "plt.legend()\n",
    "plt.tight_layout()\n",
    "plt.show()"
   ],
   "id": "54489a4ee9501e7f",
   "outputs": [
    {
     "data": {
      "text/plain": [
       "<Figure size 640x480 with 1 Axes>"
      ],
      "image/png": "[encoded data removed]"
     },
     "metadata": {},
     "output_type": "display_data"
    }
   ],
   "execution_count": 36
  },
  {
   "metadata": {
    "ExecuteTime": {
     "end_time": "2025-04-10T16:59:04.485894Z",
     "start_time": "2025-04-10T16:59:04.253532Z"
    }
   },
   "cell_type": "code",
   "source": "model = model_from_file(\"iSO595v7.xml\")",
   "id": "c09cba600dbcf9ae",
   "outputs": [],
   "execution_count": 37
  },
  {
   "metadata": {
    "ExecuteTime": {
     "end_time": "2025-04-10T16:59:04.493839Z",
     "start_time": "2025-04-10T16:59:04.491653Z"
    }
   },
   "cell_type": "code",
   "source": "[met.id for met in model.reactions.get_by_id(\"LightEX\").metabolites]",
   "id": "8a87c6d6fc517761",
   "outputs": [
    {
     "data": {
      "text/plain": [
       "['Photon[e]']"
      ]
     },
     "execution_count": 38,
     "metadata": {},
     "output_type": "execute_result"
    }
   ],
   "execution_count": 38
  },
  {
   "metadata": {
    "ExecuteTime": {
     "end_time": "2025-04-10T16:59:04.502773Z",
     "start_time": "2025-04-10T16:59:04.500522Z"
    }
   },
   "cell_type": "code",
   "source": "[reaction.reaction for reaction in model.metabolites.get_by_id(\"Photon[e]\").reactions]",
   "id": "e48e8eef8df65aa0",
   "outputs": [
    {
     "data": {
      "text/plain": [
       "['Photon[e] <=> ',\n",
       " '0.02 ATP[c] + Photon[e] --> 0.02 ADP[c] + 0.02 Orthophosphate[c] + Photon[c]',\n",
       " 'Photon[e] --> Photon[c]']"
      ]
     },
     "execution_count": 39,
     "metadata": {},
     "output_type": "execute_result"
    }
   ],
   "execution_count": 39
  },
  {
   "metadata": {
    "ExecuteTime": {
     "end_time": "2025-04-10T16:59:04.516514Z",
     "start_time": "2025-04-10T16:59:04.515321Z"
    }
   },
   "cell_type": "code",
   "source": "",
   "id": "a28b88c1eb2def4b",
   "outputs": [],
   "execution_count": null
  }
 ],
 "metadata": {
  "kernelspec": {
   "display_name": "Python 3",
   "language": "python",
   "name": "python3"
  },
  "language_info": {
   "codemirror_mode": {
    "name": "ipython",
    "version": 2
   },
   "file_extension": ".py",
   "mimetype": "text/x-python",
   "name": "python",
   "nbconvert_exporter": "python",
   "pygments_lexer": "ipython2",
   "version": "2.7.6"
  }
 },
 "nbformat": 4,
 "nbformat_minor": 5
}
