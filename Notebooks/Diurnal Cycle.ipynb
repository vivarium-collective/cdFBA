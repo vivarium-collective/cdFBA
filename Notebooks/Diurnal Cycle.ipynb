{
 "cells": [
  {
   "cell_type": "code",
   "id": "initial_id",
   "metadata": {
    "collapsed": true,
    "ExecuteTime": {
     "end_time": "2025-04-04T15:07:46.517217Z",
     "start_time": "2025-04-04T15:07:45.302120Z"
    }
   },
   "source": [
    "from copy import deepcopy\n",
    "\n",
    "from process_bigraph import Composite\n",
    "from process_bigraph import ProcessTypes\n",
    "from process_bigraph.emitter import gather_emitter_results\n",
    "\n",
    "from cdFBA import register_types\n",
    "from cdFBA.processes.dfba import dFBA, UpdateEnvironment, StaticConcentration, Injector, WaveFunction\n",
    "\n",
    "from cdFBA.utils import make_cdfba_composite, get_injector_spec, get_wave_spec, get_static_spec, set_concentration, \\\n",
    "    set_kinetics, model_from_file\n",
    "\n",
    "from matplotlib import pyplot as plt\n",
    "from pprint import pprint"
   ],
   "outputs": [],
   "execution_count": 1
  },
  {
   "metadata": {
    "ExecuteTime": {
     "end_time": "2025-04-04T15:33:43.453805Z",
     "start_time": "2025-04-04T15:33:42.848200Z"
    }
   },
   "cell_type": "code",
   "source": "model = model_from_file(\"iRS840.xml\")",
   "id": "b42b6034d974ada5",
   "outputs": [],
   "execution_count": 4
  },
  {
   "metadata": {
    "ExecuteTime": {
     "end_time": "2025-04-04T15:35:07.294678Z",
     "start_time": "2025-04-04T15:35:07.284606Z"
    }
   },
   "cell_type": "code",
   "source": "[reaction.name for reaction in model.exchanges]",
   "id": "715aee6f240cda01",
   "outputs": [
    {
     "data": {
      "text/plain": [
       "['EX_Pb_e0',\n",
       " 'EX_H2O_e0',\n",
       " 'EX_Na_plus__e0',\n",
       " 'EX_Cu2_plus__e0',\n",
       " 'EX_H_plus__e0',\n",
       " 'EX_NH3_e0',\n",
       " 'EX_Zn2_plus__e0',\n",
       " 'EX_Spermidine_e0',\n",
       " 'EX_Mg_e0',\n",
       " 'EX_L_Lactate_e0',\n",
       " 'EX_Sulfate_e0',\n",
       " 'EX_fe3_e0',\n",
       " 'EX_Cl__e0',\n",
       " 'EX_BIOT_e0',\n",
       " 'EX_Mn2_plus__e0',\n",
       " 'EX_O2_e0',\n",
       " 'EX_K_plus__e0',\n",
       " 'EX_Ca2_plus__e0',\n",
       " 'EX_Gly_Leu_e0',\n",
       " 'EX_Co2_plus__e0',\n",
       " 'cpd30510[e0] exchange',\n",
       " 'cpd30509[e0] exchange',\n",
       " 'cpdcpd00009[e0] exchange',\n",
       " 'cpd11145[e0] exchange',\n",
       " 'cpd00027[e0] exchange',\n",
       " 'cpd00011[e0] exchange',\n",
       " 'cpd00154[e0] exchange',\n",
       " 'cpd00100[e0] exchange',\n",
       " 'cpd00076[e0] exchange',\n",
       " 'cpd00082[e0] exchange',\n",
       " 'cpd00242[e0] exchange',\n",
       " 'cpd00209[e0] exchange']"
      ]
     },
     "execution_count": 10,
     "metadata": {},
     "output_type": "execute_result"
    }
   ],
   "execution_count": 10
  },
  {
   "metadata": {},
   "cell_type": "code",
   "outputs": [],
   "execution_count": null,
   "source": "",
   "id": "20aee5bdcd4de950"
  }
 ],
 "metadata": {
  "kernelspec": {
   "display_name": "Python 3",
   "language": "python",
   "name": "python3"
  },
  "language_info": {
   "codemirror_mode": {
    "name": "ipython",
    "version": 2
   },
   "file_extension": ".py",
   "mimetype": "text/x-python",
   "name": "python",
   "nbconvert_exporter": "python",
   "pygments_lexer": "ipython2",
   "version": "2.7.6"
  }
 },
 "nbformat": 4,
 "nbformat_minor": 5
}
