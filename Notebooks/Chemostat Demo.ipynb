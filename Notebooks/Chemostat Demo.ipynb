{
 "cells": [
  {
   "metadata": {},
   "cell_type": "markdown",
   "source": [
    "# Cross-Feeding Simulation\n",
    "Here we will simulate cross-feeding between two species of bacteria, inspired by previous work by [Dukovski et al., 2021](https://www.nature.com/articles/s41596-021-00593-3). For this purpose we will simulate two strains of *E. coli*: one which cannot uptake lactose and one which cannot metabolize galactose - with lactose being the only environmental carbon source being lactose set to a StaticConcentration."
   ],
   "id": "dcc67bbe7393371e"
  },
  {
   "cell_type": "code",
   "id": "864b5d37-15a4-4290-9155-f49416b7b36c",
   "metadata": {
    "ExecuteTime": {
     "end_time": "2025-03-03T19:40:56.342488Z",
     "start_time": "2025-03-03T19:40:55.301137Z"
    }
   },
   "source": [
    "from copy import deepcopy\n",
    "\n",
    "import cobra.io\n",
    "from cobra.io import write_sbml_model\n",
    "\n",
    "from process_bigraph import Composite\n",
    "from process_bigraph.composite import ProcessTypes\n",
    "\n",
    "from cdFBA import register_types\n",
    "from cdFBA.processes.dfba import DFBA, UpdateEnvironment, StaticConcentration, Injector, WaveFunction\n",
    "\n",
    "from cdFBA.utils import make_cdfba_composite, get_injector_spec, get_wave_spec, get_static_spec, model_from_file\n",
    "\n",
    "from matplotlib import pyplot as plt\n",
    "from pprint import pprint\n",
    "\n",
    "import cProfile\n",
    "import pstats\n",
    "import io\n"
   ],
   "outputs": [
    {
     "name": "stderr",
     "output_type": "stream",
     "text": [
      "<unknown>:1: SyntaxWarning: invalid escape sequence '\\s'\n"
     ]
    }
   ],
   "execution_count": 1
  },
  {
   "metadata": {},
   "cell_type": "markdown",
   "source": [
    "## Create Models\n",
    "First we create E.coli models and save them in the sbml format. We start off with the `iAF1260` model for the K-12 *E. coli* strain, and use the knockout andCOBRApy"
   ],
   "id": "95e0cf9e00afc81b"
  },
  {
   "metadata": {
    "ExecuteTime": {
     "end_time": "2025-03-03T19:41:02.382364Z",
     "start_time": "2025-03-03T19:41:00.949360Z"
    }
   },
   "cell_type": "code",
   "source": [
    "#Load E. coli model\n",
    "E_no_galE = cobra.io.load_model(\"iAF1260\")\n",
    "#Copy model\n",
    "E_no_LCTStex = E_no_galE.copy()\n",
    "#Knock out galactose metabolism\n",
    "E_no_galE.genes.b0759.knock_out() # cannot metabolize galactose\n",
    "#Knock out Lactose transport reaction LCTStex\n",
    "E_no_LCTStex.reactions.LCTStex.knock_out() # cannot uptake lactose"
   ],
   "id": "dc9a16c3644097d1",
   "outputs": [],
   "execution_count": 2
  },
  {
   "metadata": {
    "ExecuteTime": {
     "end_time": "2025-03-03T19:41:06.201895Z",
     "start_time": "2025-03-03T19:41:04.456182Z"
    }
   },
   "cell_type": "code",
   "source": [
    "#save models in SBML format\n",
    "# write_sbml_model(E_no_galE, \"/Users/tasnifrahman/PycharmProjects/cdFBA/Notebooks/E_no_galE.xml\")\n",
    "# write_sbml_model(E_no_LCTStex, \"/Users/tasnifrahman/PycharmProjects/cdFBA/Notebooks/E_no_LCTStex.xml\")"
   ],
   "id": "5910a0701b1c9a7e",
   "outputs": [],
   "execution_count": 3
  },
  {
   "cell_type": "code",
   "id": "bfcf7523-80b0-4c53-bb59-5d1c9ff0fdb4",
   "metadata": {
    "ExecuteTime": {
     "end_time": "2025-03-03T19:42:32.763135Z",
     "start_time": "2025-03-03T19:42:32.760400Z"
    }
   },
   "source": [
    "#create model dictionary\n",
    "model_dict = {\n",
    "    'deltaGal':'/Users/tasnifrahman/PycharmProjects/cdFBA/Notebooks/E_no_galE.xml',\n",
    "    'deltaLac':'/Users/tasnifrahman/PycharmProjects/cdFBA/Notebooks/E_no_LCTStex.xml'\n",
    "}\n",
    "#list exchange reactions\n",
    "exchanges = []"
   ],
   "outputs": [],
   "execution_count": 4
  },
  {
   "cell_type": "code",
   "id": "68a83034-2cf6-406e-b6eb-6412b38ebf26",
   "metadata": {},
   "source": [
    "model = model_from_file('/Users/tasnifrahman/Research/cdFBA Test/E_no_galE.xml')"
   ],
   "outputs": [],
   "execution_count": null
  },
  {
   "cell_type": "code",
   "id": "d23719e6-9718-4456-9ec6-9520b18f8970",
   "metadata": {},
   "source": [],
   "outputs": [],
   "execution_count": null
  }
 ],
 "metadata": {
  "kernelspec": {
   "display_name": "Python 3 (ipykernel)",
   "language": "python",
   "name": "python3"
  },
  "language_info": {
   "codemirror_mode": {
    "name": "ipython",
    "version": 3
   },
   "file_extension": ".py",
   "mimetype": "text/x-python",
   "name": "python",
   "nbconvert_exporter": "python",
   "pygments_lexer": "ipython3",
   "version": "3.13.2"
  }
 },
 "nbformat": 4,
 "nbformat_minor": 5
}
